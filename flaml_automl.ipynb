{
  "nbformat": 4,
  "nbformat_minor": 0,
  "metadata": {
    "kernelspec": {
      "name": "python3",
      "display_name": "Python 3.8.0 64-bit",
      "metadata": {
        "interpreter": {
          "hash": "0cfea3304185a9579d09e0953576b57c8581e46e6ebc6dfeb681bc5a511f7544"
        }
      }
    },
    "language_info": {
      "codemirror_mode": {
        "name": "ipython",
        "version": 3
      },
      "file_extension": ".py",
      "mimetype": "text/x-python",
      "name": "python",
      "nbconvert_exporter": "python",
      "pygments_lexer": "ipython3",
      "version": "3.8.0-final"
    },
    "colab": {
      "name": "flaml_automl.ipynb",
      "provenance": []
    }
  },
  "cells": [
    {
      "cell_type": "markdown",
      "metadata": {
        "id": "uZEpo8zxy6V8"
      },
      "source": [
        "Copyright (c) 2020-2021 Microsoft Corporation. All rights reserved. \n",
        "\n",
        "Licensed under the MIT License.\n",
        "\n",
        "# AutoML with FLAML Library\n",
        "\n",
        "\n",
        "## 1. Introduction\n",
        "\n",
        "FLAML is a Python library (https://github.com/microsoft/FLAML) designed to automatically produce accurate machine learning models \n",
        "with low computational cost. It is fast and cheap. The simple and lightweight design makes it easy \n",
        "to use and extend, such as adding new learners. FLAML can \n",
        "- serve as an economical AutoML engine,\n",
        "- be used as a fast hyperparameter tuning tool, or \n",
        "- be embedded in self-tuning software that requires low latency & resource in repetitive\n",
        "   tuning tasks.\n",
        "\n",
        "In this notebook, we use one real data example (binary classification) to showcase how to use FLAML library.\n",
        "\n",
        "FLAML requires `Python>=3.6`. To run this notebook example, please install flaml with the `notebook` option:\n",
        "```bash\n",
        "pip install flaml[notebook]\n",
        "```"
      ]
    },
    {
      "cell_type": "code",
      "metadata": {
        "id": "8mM5C0cHy6V_",
        "colab": {
          "base_uri": "https://localhost:8080/",
          "height": 1000
        },
        "outputId": "9d2686c2-8b0d-4724-98d3-e4824d978928"
      },
      "source": [
        "!pip install flaml[notebook];"
      ],
      "execution_count": 1,
      "outputs": [
        {
          "output_type": "stream",
          "text": [
            "Collecting flaml[notebook]\n",
            "\u001b[?25l  Downloading https://files.pythonhosted.org/packages/ff/28/8803d419b436ad7a11bb753d75d199f1a23a8a322627b6189668b207073c/FLAML-0.5.4-py3-none-any.whl (165kB)\n",
            "\u001b[K     |████████████████████████████████| 174kB 6.5MB/s \n",
            "\u001b[?25hCollecting scikit-learn>=0.23.2\n",
            "\u001b[?25l  Downloading https://files.pythonhosted.org/packages/a8/eb/a48f25c967526b66d5f1fa7a984594f0bf0a5afafa94a8c4dbc317744620/scikit_learn-0.24.2-cp37-cp37m-manylinux2010_x86_64.whl (22.3MB)\n",
            "\u001b[K     |████████████████████████████████| 22.3MB 1.5MB/s \n",
            "\u001b[?25hCollecting catboost>=0.23\n",
            "\u001b[?25l  Downloading https://files.pythonhosted.org/packages/5a/41/24e14322b9986cf72a8763e0a0a69cc256cf963cf9502c8f0044a62c1ae8/catboost-0.26-cp37-none-manylinux1_x86_64.whl (69.2MB)\n",
            "\u001b[K     |████████████████████████████████| 69.2MB 40kB/s \n",
            "\u001b[?25hCollecting lightgbm>=2.3.1\n",
            "\u001b[?25l  Downloading https://files.pythonhosted.org/packages/18/b2/fff8370f48549ce223f929fe8cab4ee6bf285a41f86037d91312b48ed95b/lightgbm-3.2.1-py3-none-manylinux1_x86_64.whl (2.0MB)\n",
            "\u001b[K     |████████████████████████████████| 2.0MB 37.5MB/s \n",
            "\u001b[?25hRequirement already satisfied: NumPy>=1.16.2 in /usr/local/lib/python3.7/dist-packages (from flaml[notebook]) (1.19.5)\n",
            "Requirement already satisfied: scipy>=1.4.1 in /usr/local/lib/python3.7/dist-packages (from flaml[notebook]) (1.4.1)\n",
            "Requirement already satisfied: xgboost>=0.90 in /usr/local/lib/python3.7/dist-packages (from flaml[notebook]) (0.90)\n",
            "Requirement already satisfied: jupyter; extra == \"notebook\" in /usr/local/lib/python3.7/dist-packages (from flaml[notebook]) (1.0.0)\n",
            "Collecting rgf-python; extra == \"notebook\"\n",
            "\u001b[?25l  Downloading https://files.pythonhosted.org/packages/05/be/1d5eda35782f9721bc0ac17a5a119b168260f4aa5ec2471cdef14f31598b/rgf_python-3.10.0-py3-none-manylinux1_x86_64.whl (757kB)\n",
            "\u001b[K     |████████████████████████████████| 757kB 36.0MB/s \n",
            "\u001b[?25hCollecting vowpalwabbit; extra == \"notebook\"\n",
            "\u001b[?25l  Downloading https://files.pythonhosted.org/packages/00/f9/19792e9ce6b192e4b0475347c9c048f73c2bf2765a79fdf25bda7e78a26b/vowpalwabbit-8.10.2-cp37-cp37m-manylinux2010_x86_64.whl (2.6MB)\n",
            "\u001b[K     |████████████████████████████████| 2.6MB 36.6MB/s \n",
            "\u001b[?25hCollecting matplotlib==3.2.0; extra == \"notebook\"\n",
            "\u001b[?25l  Downloading https://files.pythonhosted.org/packages/6c/ab/e1585a7101f8f7047376b59274ada50fefd637bd4cd99d2125a1b730845a/matplotlib-3.2.0-cp37-cp37m-manylinux1_x86_64.whl (12.4MB)\n",
            "\u001b[K     |████████████████████████████████| 12.4MB 251kB/s \n",
            "\u001b[?25hCollecting openml==0.10.2; extra == \"notebook\"\n",
            "\u001b[?25l  Downloading https://files.pythonhosted.org/packages/68/5b/cd32bb85651eccebfb489cc6ef7f060ce0f62350a6239127e398313090cc/openml-0.10.2.tar.gz (158kB)\n",
            "\u001b[K     |████████████████████████████████| 163kB 45.2MB/s \n",
            "\u001b[?25hRequirement already satisfied: joblib>=0.11 in /usr/local/lib/python3.7/dist-packages (from scikit-learn>=0.23.2->flaml[notebook]) (1.0.1)\n",
            "Collecting threadpoolctl>=2.0.0\n",
            "  Downloading https://files.pythonhosted.org/packages/f7/12/ec3f2e203afa394a149911729357aa48affc59c20e2c1c8297a60f33f133/threadpoolctl-2.1.0-py3-none-any.whl\n",
            "Requirement already satisfied: graphviz in /usr/local/lib/python3.7/dist-packages (from catboost>=0.23->flaml[notebook]) (0.10.1)\n",
            "Requirement already satisfied: pandas>=0.24.0 in /usr/local/lib/python3.7/dist-packages (from catboost>=0.23->flaml[notebook]) (1.1.5)\n",
            "Requirement already satisfied: six in /usr/local/lib/python3.7/dist-packages (from catboost>=0.23->flaml[notebook]) (1.15.0)\n",
            "Requirement already satisfied: plotly in /usr/local/lib/python3.7/dist-packages (from catboost>=0.23->flaml[notebook]) (4.4.1)\n",
            "Requirement already satisfied: wheel in /usr/local/lib/python3.7/dist-packages (from lightgbm>=2.3.1->flaml[notebook]) (0.36.2)\n",
            "Requirement already satisfied: notebook in /usr/local/lib/python3.7/dist-packages (from jupyter; extra == \"notebook\"->flaml[notebook]) (5.3.1)\n",
            "Requirement already satisfied: ipywidgets in /usr/local/lib/python3.7/dist-packages (from jupyter; extra == \"notebook\"->flaml[notebook]) (7.6.3)\n",
            "Requirement already satisfied: jupyter-console in /usr/local/lib/python3.7/dist-packages (from jupyter; extra == \"notebook\"->flaml[notebook]) (5.2.0)\n",
            "Requirement already satisfied: ipykernel in /usr/local/lib/python3.7/dist-packages (from jupyter; extra == \"notebook\"->flaml[notebook]) (4.10.1)\n",
            "Requirement already satisfied: qtconsole in /usr/local/lib/python3.7/dist-packages (from jupyter; extra == \"notebook\"->flaml[notebook]) (5.1.0)\n",
            "Requirement already satisfied: nbconvert in /usr/local/lib/python3.7/dist-packages (from jupyter; extra == \"notebook\"->flaml[notebook]) (5.6.1)\n",
            "Requirement already satisfied: kiwisolver>=1.0.1 in /usr/local/lib/python3.7/dist-packages (from matplotlib==3.2.0; extra == \"notebook\"->flaml[notebook]) (1.3.1)\n",
            "Requirement already satisfied: pyparsing!=2.0.4,!=2.1.2,!=2.1.6,>=2.0.1 in /usr/local/lib/python3.7/dist-packages (from matplotlib==3.2.0; extra == \"notebook\"->flaml[notebook]) (2.4.7)\n",
            "Requirement already satisfied: python-dateutil>=2.1 in /usr/local/lib/python3.7/dist-packages (from matplotlib==3.2.0; extra == \"notebook\"->flaml[notebook]) (2.8.1)\n",
            "Requirement already satisfied: cycler>=0.10 in /usr/local/lib/python3.7/dist-packages (from matplotlib==3.2.0; extra == \"notebook\"->flaml[notebook]) (0.10.0)\n",
            "Collecting liac-arff>=2.4.0\n",
            "  Downloading https://files.pythonhosted.org/packages/6e/43/73944aa5ad2b3185c0f0ba0ee6f73277f2eb51782ca6ccf3e6793caf209a/liac-arff-2.5.0.tar.gz\n",
            "Collecting xmltodict\n",
            "  Downloading https://files.pythonhosted.org/packages/28/fd/30d5c1d3ac29ce229f6bdc40bbc20b28f716e8b363140c26eff19122d8a5/xmltodict-0.12.0-py2.py3-none-any.whl\n",
            "Requirement already satisfied: requests in /usr/local/lib/python3.7/dist-packages (from openml==0.10.2; extra == \"notebook\"->flaml[notebook]) (2.23.0)\n",
            "Requirement already satisfied: pytz>=2017.2 in /usr/local/lib/python3.7/dist-packages (from pandas>=0.24.0->catboost>=0.23->flaml[notebook]) (2018.9)\n",
            "Requirement already satisfied: retrying>=1.3.3 in /usr/local/lib/python3.7/dist-packages (from plotly->catboost>=0.23->flaml[notebook]) (1.3.3)\n",
            "Requirement already satisfied: ipython-genutils in /usr/local/lib/python3.7/dist-packages (from notebook->jupyter; extra == \"notebook\"->flaml[notebook]) (0.2.0)\n",
            "Requirement already satisfied: jinja2 in /usr/local/lib/python3.7/dist-packages (from notebook->jupyter; extra == \"notebook\"->flaml[notebook]) (2.11.3)\n",
            "Requirement already satisfied: jupyter-core>=4.4.0 in /usr/local/lib/python3.7/dist-packages (from notebook->jupyter; extra == \"notebook\"->flaml[notebook]) (4.7.1)\n",
            "Requirement already satisfied: tornado>=4 in /usr/local/lib/python3.7/dist-packages (from notebook->jupyter; extra == \"notebook\"->flaml[notebook]) (5.1.1)\n",
            "Requirement already satisfied: traitlets>=4.2.1 in /usr/local/lib/python3.7/dist-packages (from notebook->jupyter; extra == \"notebook\"->flaml[notebook]) (5.0.5)\n",
            "Requirement already satisfied: Send2Trash in /usr/local/lib/python3.7/dist-packages (from notebook->jupyter; extra == \"notebook\"->flaml[notebook]) (1.5.0)\n",
            "Requirement already satisfied: jupyter-client>=5.2.0 in /usr/local/lib/python3.7/dist-packages (from notebook->jupyter; extra == \"notebook\"->flaml[notebook]) (5.3.5)\n",
            "Requirement already satisfied: terminado>=0.8.1 in /usr/local/lib/python3.7/dist-packages (from notebook->jupyter; extra == \"notebook\"->flaml[notebook]) (0.10.1)\n",
            "Requirement already satisfied: nbformat in /usr/local/lib/python3.7/dist-packages (from notebook->jupyter; extra == \"notebook\"->flaml[notebook]) (5.1.3)\n",
            "Requirement already satisfied: jupyterlab-widgets>=1.0.0; python_version >= \"3.6\" in /usr/local/lib/python3.7/dist-packages (from ipywidgets->jupyter; extra == \"notebook\"->flaml[notebook]) (1.0.0)\n",
            "Requirement already satisfied: ipython>=4.0.0; python_version >= \"3.3\" in /usr/local/lib/python3.7/dist-packages (from ipywidgets->jupyter; extra == \"notebook\"->flaml[notebook]) (5.5.0)\n",
            "Requirement already satisfied: widgetsnbextension~=3.5.0 in /usr/local/lib/python3.7/dist-packages (from ipywidgets->jupyter; extra == \"notebook\"->flaml[notebook]) (3.5.1)\n",
            "Requirement already satisfied: prompt-toolkit<2.0.0,>=1.0.0 in /usr/local/lib/python3.7/dist-packages (from jupyter-console->jupyter; extra == \"notebook\"->flaml[notebook]) (1.0.18)\n",
            "Requirement already satisfied: pygments in /usr/local/lib/python3.7/dist-packages (from jupyter-console->jupyter; extra == \"notebook\"->flaml[notebook]) (2.6.1)\n",
            "Requirement already satisfied: qtpy in /usr/local/lib/python3.7/dist-packages (from qtconsole->jupyter; extra == \"notebook\"->flaml[notebook]) (1.9.0)\n",
            "Requirement already satisfied: pyzmq>=17.1 in /usr/local/lib/python3.7/dist-packages (from qtconsole->jupyter; extra == \"notebook\"->flaml[notebook]) (22.1.0)\n",
            "Requirement already satisfied: defusedxml in /usr/local/lib/python3.7/dist-packages (from nbconvert->jupyter; extra == \"notebook\"->flaml[notebook]) (0.7.1)\n",
            "Requirement already satisfied: bleach in /usr/local/lib/python3.7/dist-packages (from nbconvert->jupyter; extra == \"notebook\"->flaml[notebook]) (3.3.0)\n",
            "Requirement already satisfied: entrypoints>=0.2.2 in /usr/local/lib/python3.7/dist-packages (from nbconvert->jupyter; extra == \"notebook\"->flaml[notebook]) (0.3)\n",
            "Requirement already satisfied: testpath in /usr/local/lib/python3.7/dist-packages (from nbconvert->jupyter; extra == \"notebook\"->flaml[notebook]) (0.5.0)\n",
            "Requirement already satisfied: mistune<2,>=0.8.1 in /usr/local/lib/python3.7/dist-packages (from nbconvert->jupyter; extra == \"notebook\"->flaml[notebook]) (0.8.4)\n",
            "Requirement already satisfied: pandocfilters>=1.4.1 in /usr/local/lib/python3.7/dist-packages (from nbconvert->jupyter; extra == \"notebook\"->flaml[notebook]) (1.4.3)\n",
            "Requirement already satisfied: chardet<4,>=3.0.2 in /usr/local/lib/python3.7/dist-packages (from requests->openml==0.10.2; extra == \"notebook\"->flaml[notebook]) (3.0.4)\n",
            "Requirement already satisfied: urllib3!=1.25.0,!=1.25.1,<1.26,>=1.21.1 in /usr/local/lib/python3.7/dist-packages (from requests->openml==0.10.2; extra == \"notebook\"->flaml[notebook]) (1.24.3)\n",
            "Requirement already satisfied: certifi>=2017.4.17 in /usr/local/lib/python3.7/dist-packages (from requests->openml==0.10.2; extra == \"notebook\"->flaml[notebook]) (2021.5.30)\n",
            "Requirement already satisfied: idna<3,>=2.5 in /usr/local/lib/python3.7/dist-packages (from requests->openml==0.10.2; extra == \"notebook\"->flaml[notebook]) (2.10)\n",
            "Requirement already satisfied: MarkupSafe>=0.23 in /usr/local/lib/python3.7/dist-packages (from jinja2->notebook->jupyter; extra == \"notebook\"->flaml[notebook]) (2.0.1)\n",
            "Requirement already satisfied: ptyprocess; os_name != \"nt\" in /usr/local/lib/python3.7/dist-packages (from terminado>=0.8.1->notebook->jupyter; extra == \"notebook\"->flaml[notebook]) (0.7.0)\n",
            "Requirement already satisfied: jsonschema!=2.5.0,>=2.4 in /usr/local/lib/python3.7/dist-packages (from nbformat->notebook->jupyter; extra == \"notebook\"->flaml[notebook]) (2.6.0)\n",
            "Requirement already satisfied: setuptools>=18.5 in /usr/local/lib/python3.7/dist-packages (from ipython>=4.0.0; python_version >= \"3.3\"->ipywidgets->jupyter; extra == \"notebook\"->flaml[notebook]) (57.0.0)\n",
            "Requirement already satisfied: pexpect; sys_platform != \"win32\" in /usr/local/lib/python3.7/dist-packages (from ipython>=4.0.0; python_version >= \"3.3\"->ipywidgets->jupyter; extra == \"notebook\"->flaml[notebook]) (4.8.0)\n",
            "Requirement already satisfied: decorator in /usr/local/lib/python3.7/dist-packages (from ipython>=4.0.0; python_version >= \"3.3\"->ipywidgets->jupyter; extra == \"notebook\"->flaml[notebook]) (4.4.2)\n",
            "Requirement already satisfied: pickleshare in /usr/local/lib/python3.7/dist-packages (from ipython>=4.0.0; python_version >= \"3.3\"->ipywidgets->jupyter; extra == \"notebook\"->flaml[notebook]) (0.7.5)\n",
            "Requirement already satisfied: simplegeneric>0.8 in /usr/local/lib/python3.7/dist-packages (from ipython>=4.0.0; python_version >= \"3.3\"->ipywidgets->jupyter; extra == \"notebook\"->flaml[notebook]) (0.8.1)\n",
            "Requirement already satisfied: wcwidth in /usr/local/lib/python3.7/dist-packages (from prompt-toolkit<2.0.0,>=1.0.0->jupyter-console->jupyter; extra == \"notebook\"->flaml[notebook]) (0.2.5)\n",
            "Requirement already satisfied: webencodings in /usr/local/lib/python3.7/dist-packages (from bleach->nbconvert->jupyter; extra == \"notebook\"->flaml[notebook]) (0.5.1)\n",
            "Requirement already satisfied: packaging in /usr/local/lib/python3.7/dist-packages (from bleach->nbconvert->jupyter; extra == \"notebook\"->flaml[notebook]) (20.9)\n",
            "Building wheels for collected packages: openml, liac-arff\n",
            "  Building wheel for openml (setup.py) ... \u001b[?25l\u001b[?25hdone\n",
            "  Created wheel for openml: filename=openml-0.10.2-cp37-none-any.whl size=190319 sha256=cb94a86a2971f249d7d841f5180058df15e3d3cdc1f67afc34129a3b5a0bb9f6\n",
            "  Stored in directory: /root/.cache/pip/wheels/71/ec/5f/aaad9e184680b0b8f1a02ff0ec640cace5adf5bff7bb0af1b4\n",
            "  Building wheel for liac-arff (setup.py) ... \u001b[?25l\u001b[?25hdone\n",
            "  Created wheel for liac-arff: filename=liac_arff-2.5.0-cp37-none-any.whl size=11732 sha256=41d70148df68be33067c64f12a359c2bdbe1fb8c1ed9d5c6995ae145b63d44e7\n",
            "  Stored in directory: /root/.cache/pip/wheels/77/8d/b4/8bfce5beea9a3496cc15b24961876adb7b6e2912ff09164179\n",
            "Successfully built openml liac-arff\n",
            "\u001b[31mERROR: albumentations 0.1.12 has requirement imgaug<0.2.7,>=0.2.5, but you'll have imgaug 0.2.9 which is incompatible.\u001b[0m\n",
            "Installing collected packages: threadpoolctl, scikit-learn, matplotlib, catboost, lightgbm, rgf-python, vowpalwabbit, liac-arff, xmltodict, openml, flaml\n",
            "  Found existing installation: scikit-learn 0.22.2.post1\n",
            "    Uninstalling scikit-learn-0.22.2.post1:\n",
            "      Successfully uninstalled scikit-learn-0.22.2.post1\n",
            "  Found existing installation: matplotlib 3.2.2\n",
            "    Uninstalling matplotlib-3.2.2:\n",
            "      Successfully uninstalled matplotlib-3.2.2\n",
            "  Found existing installation: lightgbm 2.2.3\n",
            "    Uninstalling lightgbm-2.2.3:\n",
            "      Successfully uninstalled lightgbm-2.2.3\n",
            "Successfully installed catboost-0.26 flaml-0.5.4 liac-arff-2.5.0 lightgbm-3.2.1 matplotlib-3.2.0 openml-0.10.2 rgf-python-3.10.0 scikit-learn-0.24.2 threadpoolctl-2.1.0 vowpalwabbit-8.10.2 xmltodict-0.12.0\n"
          ],
          "name": "stdout"
        },
        {
          "output_type": "display_data",
          "data": {
            "application/vnd.colab-display-data+json": {
              "pip_warning": {
                "packages": [
                  "matplotlib",
                  "mpl_toolkits"
                ]
              }
            }
          },
          "metadata": {
            "tags": []
          }
        }
      ]
    },
    {
      "cell_type": "markdown",
      "metadata": {
        "id": "KIvlRBxdy6WA"
      },
      "source": [
        "## 2. Classification Example\n",
        "### Load data and preprocess\n",
        "\n",
        "Download [Airlines dataset](https://www.openml.org/d/1169) from OpenML. The task is to predict whether a given flight will be delayed, given the information of the scheduled departure."
      ]
    },
    {
      "cell_type": "code",
      "metadata": {
        "tags": [],
        "id": "0cZYYAOiy6WA",
        "colab": {
          "base_uri": "https://localhost:8080/"
        },
        "outputId": "16e55bac-4d2c-4feb-e6ef-17f235e917b6"
      },
      "source": [
        "#from flaml.data import load_openml_dataset\n",
        "#X_train, X_test, y_train, y_test = load_openml_dataset(dataset_id=1169, data_dir='./')\n",
        "import pandas as pd\n",
        "workbook = pd.ExcelFile('locust_test_result.xlsx')\n",
        "sheets= workbook.sheet_names\n",
        "df = pd.concat([pd.read_excel(workbook, sheet_name=s).assign(instance_type=s) for s in sheets])\n",
        "len(df.columns)\n",
        "df.shape[0]\n",
        "first_column = df.pop('instance_type')\n",
        "one_hot=pd.get_dummies(first_column)\n",
        "#print(one_hot)\n",
        "#df.insert(0, 'instance_type', first_column)\n",
        "df= df.join(one_hot)\n",
        "print(df)\n",
        "#print(xls.sheet_names[0])\n",
        "#df1 = pd.read_excel(xworkbookls, workbook.sheet_names[0])\n",
        "#print(len(df1.index))\n",
        "#print(df1.head(3))\n",
        "row_filtered = df[df['user'] == 'user'].index\n",
        "#print(df_filtered)\n",
        "col_names=df.columns\n",
        "#print(col_names)\n",
        "col_filtered = df[pd.isna(df[0.5])].index\n",
        "#print(col_filtered)\n",
        "#print(df1.head)\n",
        "df_clean=df.drop(row_filtered)\n",
        "df_clean=df_clean.drop(col_filtered)\n",
        "#df_X=df_clean[['instance_type','User Count',' blocksize','cpu_measured','Total Request Count']]\n",
        "df_X=df_clean[['result_m5_2xlarge','result_m5_2xlarge','result_m5_xlarge','result_t2_xlarge','result_m4_xlarge','result_m5_4xlarge','result_t2_large','User Count',' blocksize','cpu_measured','Total Request Count']]\n",
        "df_X[' blocksize']=pd.to_numeric(df_X[' blocksize'].str.replace(r'.b$', ''))\n",
        "df_X=df_X.to_numpy()\n",
        "df_Y=df_clean[['Total Average Response Time']]\n",
        "df_Y=df_Y.to_numpy()\n",
        "print(df_X)\n"
      ],
      "execution_count": 14,
      "outputs": [
        {
          "output_type": "stream",
          "text": [
            "     user  blocksize  ... result_t2_large result_t2_xlarge\n",
            "0     100       10kb  ...               1                0\n",
            "0     100       10kb  ...               0                1\n",
            "0     100       10kb  ...               0                0\n",
            "0     100       10kb  ...               0                0\n",
            "0     100       10kb  ...               0                0\n",
            "..    ...        ...  ...             ...              ...\n",
            "670  1300        1mb  ...               0                1\n",
            "670  1300        1mb  ...               0                0\n",
            "670  1300        1mb  ...               0                0\n",
            "670  1300        1mb  ...               0                0\n",
            "670  1300        1mb  ...               0                0\n",
            "\n",
            "[24156 rows x 35 columns]\n",
            "[[0 0 0 ... 10 0.7 202]\n",
            " [0 0 0 ... 10 0.7 202]\n",
            " [0 0 1 ... 10 0.7 202]\n",
            " ...\n",
            " [1 1 0 ... 600 6.2 980]\n",
            " [0 0 0 ... 600 6.2 980]\n",
            " [0 0 0 ... 600 6.2 980]]\n"
          ],
          "name": "stdout"
        },
        {
          "output_type": "stream",
          "text": [
            "/usr/local/lib/python3.7/dist-packages/ipykernel_launcher.py:30: SettingWithCopyWarning: \n",
            "A value is trying to be set on a copy of a slice from a DataFrame.\n",
            "Try using .loc[row_indexer,col_indexer] = value instead\n",
            "\n",
            "See the caveats in the documentation: https://pandas.pydata.org/pandas-docs/stable/user_guide/indexing.html#returning-a-view-versus-a-copy\n"
          ],
          "name": "stderr"
        }
      ]
    },
    {
      "cell_type": "code",
      "metadata": {
        "id": "D5i1EyeOPg4W",
        "colab": {
          "base_uri": "https://localhost:8080/",
          "height": 636
        },
        "outputId": "b9738687-0535-4650-ca6c-99db0008ac30"
      },
      "source": [
        "import matplotlib.pyplot as plt\n",
        "print(col_names)\n",
        "df_clean.plot(x ='cpu_measured', y='Total Average Response Time', kind = 'scatter')\t\n",
        "type(df_X)"
      ],
      "execution_count": 15,
      "outputs": [
        {
          "output_type": "stream",
          "text": [
            "Index([                       'user',                  ' blocksize',\n",
            "                         'Timestamp',                  'User Count',\n",
            "                              'Type',                        'Name',\n",
            "                        'Requests/s',                  'Failures/s',\n",
            "                                 0.5,                          0.66,\n",
            "                                0.75,                           0.8,\n",
            "                                 0.9,                          0.95,\n",
            "                                0.98,                          0.99,\n",
            "                               0.999,                             1,\n",
            "               'Total Request Count',         'Total Failure Count',\n",
            "        'Total Median Response Time',     'Total Min Response Time',\n",
            "           'Total Max Response Time',  'Total Average Content Size',\n",
            "                      'cpu_measured',                 ' thread_num',\n",
            "                      ' cpu_compute',                        0.9999,\n",
            "       'Total Average Response Time',            'result_m4_xlarge',\n",
            "                 'result_m5_2xlarge',           'result_m5_4xlarge',\n",
            "                  'result_m5_xlarge',             'result_t2_large',\n",
            "                  'result_t2_xlarge'],\n",
            "      dtype='object')\n"
          ],
          "name": "stdout"
        },
        {
          "output_type": "execute_result",
          "data": {
            "text/plain": [
              "numpy.ndarray"
            ]
          },
          "metadata": {
            "tags": []
          },
          "execution_count": 15
        },
        {
          "output_type": "display_data",
          "data": {
            "image/png": "[encoded data removed]",
            "text/plain": [
              "<Figure size 432x288 with 1 Axes>"
            ]
          },
          "metadata": {
            "tags": [],
            "needs_background": "light"
          }
        }
      ]
    },
    {
      "cell_type": "markdown",
      "metadata": {
        "id": "1FFm_R9Sy6WC"
      },
      "source": [
        "### Run FLAML\n",
        "In the FLAML automl run configuration, users can specify the task type, time budget, error metric, learner list, whether to subsample, resampling strategy type, and so on. All these arguments have default values which will be used if users do not provide them. For example, the default ML learners of FLAML are `['lgbm', 'xgboost', 'catboost', 'rf', 'extra_tree', 'lrl1']`. "
      ]
    },
    {
      "cell_type": "code",
      "metadata": {
        "id": "KMcvD-7Ty6WC"
      },
      "source": [
        "''' import AutoML class from flaml package '''\n",
        "from flaml import AutoML\n",
        "automl = AutoML()"
      ],
      "execution_count": 16,
      "outputs": []
    },
    {
      "cell_type": "code",
      "metadata": {
        "id": "NXMTs7E_y6WD"
      },
      "source": [
        "settings = {\n",
        "    \"time_budget\": 30,  # total running time in seconds\n",
        "    \"metric\": 'r2',  # primary metrics can be chosen from: ['accuracy','roc_auc','f1','log_loss','mae','mse','r2']\n",
        "    \"task\": 'regression',  # task type    \n",
        "    \"log_file_name\": 'bops_experiment.log',  # flaml log file\n",
        "}"
      ],
      "execution_count": 17,
      "outputs": []
    },
    {
      "cell_type": "code",
      "metadata": {
        "tags": [],
        "id": "XDLm9f3Gy6WD",
        "colab": {
          "base_uri": "https://localhost:8080/"
        },
        "outputId": "aa64ccfe-8ce1-4264-91b1-500f1bf8e68f"
      },
      "source": [
        "'''The main flaml automl API'''\n",
        "automl.fit(X_train=df_X[0:1500],y_train=df_Y[0:1500], **settings)\n"
      ],
      "execution_count": 18,
      "outputs": [
        {
          "output_type": "stream",
          "text": [
            "[flaml.automl: 07-01 07:02:13] {908} INFO - Evaluation method: cv\n",
            "[flaml.automl: 07-01 07:02:13] {617} INFO - Using RepeatedKFold\n",
            "[flaml.automl: 07-01 07:02:13] {929} INFO - Minimizing error metric: 1-r2\n",
            "[flaml.automl: 07-01 07:02:13] {949} INFO - List of ML learners in AutoML Run: ['lgbm', 'rf', 'catboost', 'xgboost', 'extra_tree']\n",
            "[flaml.automl: 07-01 07:02:13] {1013} INFO - iteration 0, current learner lgbm\n",
            "[flaml.automl: 07-01 07:02:13] {1165} INFO -  at 0.1s,\tbest lgbm's error=0.5696,\tbest lgbm's error=0.5696\n",
            "[flaml.automl: 07-01 07:02:13] {1013} INFO - iteration 1, current learner lgbm\n",
            "[flaml.automl: 07-01 07:02:13] {1165} INFO -  at 0.2s,\tbest lgbm's error=0.5696,\tbest lgbm's error=0.5696\n",
            "[flaml.automl: 07-01 07:02:13] {1013} INFO - iteration 2, current learner lgbm\n",
            "[flaml.automl: 07-01 07:02:14] {1165} INFO -  at 0.2s,\tbest lgbm's error=0.2764,\tbest lgbm's error=0.2764\n",
            "[flaml.automl: 07-01 07:02:14] {1013} INFO - iteration 3, current learner lgbm\n",
            "[flaml.automl: 07-01 07:02:14] {1165} INFO -  at 0.3s,\tbest lgbm's error=0.1558,\tbest lgbm's error=0.1558\n",
            "[flaml.automl: 07-01 07:02:14] {1013} INFO - iteration 4, current learner lgbm\n",
            "[flaml.automl: 07-01 07:02:14] {1165} INFO -  at 0.3s,\tbest lgbm's error=0.1558,\tbest lgbm's error=0.1558\n",
            "[flaml.automl: 07-01 07:02:14] {1013} INFO - iteration 5, current learner lgbm\n",
            "[flaml.automl: 07-01 07:02:14] {1165} INFO -  at 0.4s,\tbest lgbm's error=0.1558,\tbest lgbm's error=0.1558\n",
            "[flaml.automl: 07-01 07:02:14] {1013} INFO - iteration 6, current learner lgbm\n",
            "[flaml.automl: 07-01 07:02:14] {1165} INFO -  at 0.5s,\tbest lgbm's error=0.1426,\tbest lgbm's error=0.1426\n",
            "[flaml.automl: 07-01 07:02:14] {1013} INFO - iteration 7, current learner xgboost\n",
            "[flaml.automl: 07-01 07:02:14] {1165} INFO -  at 0.7s,\tbest xgboost's error=1.0624,\tbest lgbm's error=0.1426\n",
            "[flaml.automl: 07-01 07:02:14] {1013} INFO - iteration 8, current learner lgbm\n",
            "[flaml.automl: 07-01 07:02:14] {1165} INFO -  at 0.7s,\tbest lgbm's error=0.1311,\tbest lgbm's error=0.1311\n",
            "[flaml.automl: 07-01 07:02:14] {1013} INFO - iteration 9, current learner lgbm\n",
            "[flaml.automl: 07-01 07:02:14] {1165} INFO -  at 0.8s,\tbest lgbm's error=0.1311,\tbest lgbm's error=0.1311\n",
            "[flaml.automl: 07-01 07:02:14] {1013} INFO - iteration 10, current learner lgbm\n",
            "[flaml.automl: 07-01 07:02:14] {1165} INFO -  at 0.9s,\tbest lgbm's error=0.1096,\tbest lgbm's error=0.1096\n",
            "[flaml.automl: 07-01 07:02:14] {1013} INFO - iteration 11, current learner lgbm\n",
            "[flaml.automl: 07-01 07:02:14] {1165} INFO -  at 0.9s,\tbest lgbm's error=0.1096,\tbest lgbm's error=0.1096\n",
            "[flaml.automl: 07-01 07:02:14] {1013} INFO - iteration 12, current learner lgbm\n",
            "[flaml.automl: 07-01 07:02:14] {1165} INFO -  at 1.0s,\tbest lgbm's error=0.1096,\tbest lgbm's error=0.1096\n",
            "[flaml.automl: 07-01 07:02:14] {1013} INFO - iteration 13, current learner lgbm\n",
            "[flaml.automl: 07-01 07:02:14] {1165} INFO -  at 1.0s,\tbest lgbm's error=0.1096,\tbest lgbm's error=0.1096\n",
            "[flaml.automl: 07-01 07:02:14] {1013} INFO - iteration 14, current learner extra_tree\n",
            "[flaml.automl: 07-01 07:02:16] {1165} INFO -  at 2.4s,\tbest extra_tree's error=0.0969,\tbest extra_tree's error=0.0969\n",
            "[flaml.automl: 07-01 07:02:16] {1013} INFO - iteration 15, current learner rf\n",
            "[flaml.automl: 07-01 07:02:17] {1165} INFO -  at 3.8s,\tbest rf's error=0.0722,\tbest rf's error=0.0722\n",
            "[flaml.automl: 07-01 07:02:17] {1013} INFO - iteration 16, current learner lgbm\n",
            "[flaml.automl: 07-01 07:02:17] {1165} INFO -  at 3.8s,\tbest lgbm's error=0.1096,\tbest rf's error=0.0722\n",
            "[flaml.automl: 07-01 07:02:17] {1013} INFO - iteration 17, current learner extra_tree\n",
            "[flaml.automl: 07-01 07:02:18] {1165} INFO -  at 5.0s,\tbest extra_tree's error=0.0969,\tbest rf's error=0.0722\n",
            "[flaml.automl: 07-01 07:02:18] {1013} INFO - iteration 18, current learner lgbm\n",
            "[flaml.automl: 07-01 07:02:18] {1165} INFO -  at 5.0s,\tbest lgbm's error=0.1096,\tbest rf's error=0.0722\n",
            "[flaml.automl: 07-01 07:02:18] {1013} INFO - iteration 19, current learner xgboost\n",
            "[flaml.automl: 07-01 07:02:18] {1165} INFO -  at 5.1s,\tbest xgboost's error=1.0624,\tbest rf's error=0.0722\n",
            "[flaml.automl: 07-01 07:02:18] {1013} INFO - iteration 20, current learner xgboost\n",
            "[flaml.automl: 07-01 07:02:18] {1165} INFO -  at 5.1s,\tbest xgboost's error=0.3886,\tbest rf's error=0.0722\n",
            "[flaml.automl: 07-01 07:02:18] {1013} INFO - iteration 21, current learner xgboost\n",
            "[flaml.automl: 07-01 07:02:18] {1165} INFO -  at 5.1s,\tbest xgboost's error=0.1565,\tbest rf's error=0.0722\n",
            "[flaml.automl: 07-01 07:02:18] {1013} INFO - iteration 22, current learner xgboost\n",
            "[flaml.automl: 07-01 07:02:19] {1165} INFO -  at 5.2s,\tbest xgboost's error=0.1565,\tbest rf's error=0.0722\n",
            "[flaml.automl: 07-01 07:02:19] {1013} INFO - iteration 23, current learner xgboost\n",
            "[flaml.automl: 07-01 07:02:19] {1165} INFO -  at 5.2s,\tbest xgboost's error=0.1565,\tbest rf's error=0.0722\n",
            "[flaml.automl: 07-01 07:02:19] {1013} INFO - iteration 24, current learner xgboost\n",
            "[flaml.automl: 07-01 07:02:19] {1165} INFO -  at 5.3s,\tbest xgboost's error=0.1175,\tbest rf's error=0.0722\n",
            "[flaml.automl: 07-01 07:02:19] {1013} INFO - iteration 25, current learner extra_tree\n",
            "[flaml.automl: 07-01 07:02:20] {1165} INFO -  at 6.5s,\tbest extra_tree's error=0.0969,\tbest rf's error=0.0722\n",
            "[flaml.automl: 07-01 07:02:20] {1013} INFO - iteration 26, current learner xgboost\n",
            "[flaml.automl: 07-01 07:02:20] {1165} INFO -  at 6.6s,\tbest xgboost's error=0.1028,\tbest rf's error=0.0722\n",
            "[flaml.automl: 07-01 07:02:20] {1013} INFO - iteration 27, current learner xgboost\n",
            "[flaml.automl: 07-01 07:02:20] {1165} INFO -  at 6.6s,\tbest xgboost's error=0.1028,\tbest rf's error=0.0722\n",
            "[flaml.automl: 07-01 07:02:20] {1013} INFO - iteration 28, current learner xgboost\n",
            "[flaml.automl: 07-01 07:02:20] {1165} INFO -  at 6.7s,\tbest xgboost's error=0.0859,\tbest rf's error=0.0722\n",
            "[flaml.automl: 07-01 07:02:20] {1013} INFO - iteration 29, current learner xgboost\n",
            "[flaml.automl: 07-01 07:02:20] {1165} INFO -  at 6.7s,\tbest xgboost's error=0.0859,\tbest rf's error=0.0722\n",
            "[flaml.automl: 07-01 07:02:20] {1013} INFO - iteration 30, current learner lgbm\n",
            "[flaml.automl: 07-01 07:02:20] {1165} INFO -  at 6.8s,\tbest lgbm's error=0.1096,\tbest rf's error=0.0722\n",
            "[flaml.automl: 07-01 07:02:20] {1013} INFO - iteration 31, current learner lgbm\n",
            "[flaml.automl: 07-01 07:02:20] {1165} INFO -  at 6.9s,\tbest lgbm's error=0.0685,\tbest lgbm's error=0.0685\n",
            "[flaml.automl: 07-01 07:02:20] {1013} INFO - iteration 32, current learner lgbm\n",
            "[flaml.automl: 07-01 07:02:20] {1165} INFO -  at 6.9s,\tbest lgbm's error=0.0685,\tbest lgbm's error=0.0685\n",
            "[flaml.automl: 07-01 07:02:20] {1013} INFO - iteration 33, current learner xgboost\n",
            "[flaml.automl: 07-01 07:02:20] {1165} INFO -  at 7.0s,\tbest xgboost's error=0.0859,\tbest lgbm's error=0.0685\n",
            "[flaml.automl: 07-01 07:02:20] {1013} INFO - iteration 34, current learner lgbm\n",
            "[flaml.automl: 07-01 07:02:20] {1165} INFO -  at 7.1s,\tbest lgbm's error=0.0685,\tbest lgbm's error=0.0685\n",
            "[flaml.automl: 07-01 07:02:20] {1013} INFO - iteration 35, current learner rf\n",
            "[flaml.automl: 07-01 07:02:22] {1165} INFO -  at 8.2s,\tbest rf's error=0.0722,\tbest lgbm's error=0.0685\n",
            "[flaml.automl: 07-01 07:02:22] {1013} INFO - iteration 36, current learner extra_tree\n",
            "[flaml.automl: 07-01 07:02:23] {1165} INFO -  at 9.5s,\tbest extra_tree's error=0.0969,\tbest lgbm's error=0.0685\n",
            "[flaml.automl: 07-01 07:02:23] {1013} INFO - iteration 37, current learner rf\n",
            "[flaml.automl: 07-01 07:02:24] {1165} INFO -  at 10.8s,\tbest rf's error=0.0717,\tbest lgbm's error=0.0685\n",
            "[flaml.automl: 07-01 07:02:24] {1013} INFO - iteration 38, current learner xgboost\n",
            "[flaml.automl: 07-01 07:02:24] {1165} INFO -  at 10.8s,\tbest xgboost's error=0.0859,\tbest lgbm's error=0.0685\n",
            "[flaml.automl: 07-01 07:02:24] {1013} INFO - iteration 39, current learner lgbm\n",
            "[flaml.automl: 07-01 07:02:24] {1165} INFO -  at 10.9s,\tbest lgbm's error=0.0685,\tbest lgbm's error=0.0685\n",
            "[flaml.automl: 07-01 07:02:24] {1013} INFO - iteration 40, current learner xgboost\n",
            "[flaml.automl: 07-01 07:02:24] {1165} INFO -  at 10.9s,\tbest xgboost's error=0.0703,\tbest lgbm's error=0.0685\n",
            "[flaml.automl: 07-01 07:02:24] {1013} INFO - iteration 41, current learner xgboost\n",
            "[flaml.automl: 07-01 07:02:24] {1165} INFO -  at 11.0s,\tbest xgboost's error=0.0703,\tbest lgbm's error=0.0685\n",
            "[flaml.automl: 07-01 07:02:24] {1013} INFO - iteration 42, current learner lgbm\n",
            "[flaml.automl: 07-01 07:02:24] {1165} INFO -  at 11.1s,\tbest lgbm's error=0.0685,\tbest lgbm's error=0.0685\n",
            "[flaml.automl: 07-01 07:02:24] {1013} INFO - iteration 43, current learner xgboost\n",
            "[flaml.automl: 07-01 07:02:24] {1165} INFO -  at 11.1s,\tbest xgboost's error=0.0703,\tbest lgbm's error=0.0685\n",
            "[flaml.automl: 07-01 07:02:24] {1013} INFO - iteration 44, current learner extra_tree\n",
            "[flaml.automl: 07-01 07:02:26] {1165} INFO -  at 12.4s,\tbest extra_tree's error=0.0969,\tbest lgbm's error=0.0685\n",
            "[flaml.automl: 07-01 07:02:26] {1013} INFO - iteration 45, current learner xgboost\n",
            "[flaml.automl: 07-01 07:02:26] {1165} INFO -  at 12.5s,\tbest xgboost's error=0.0516,\tbest xgboost's error=0.0516\n",
            "[flaml.automl: 07-01 07:02:26] {1013} INFO - iteration 46, current learner xgboost\n",
            "[flaml.automl: 07-01 07:02:26] {1165} INFO -  at 12.5s,\tbest xgboost's error=0.0516,\tbest xgboost's error=0.0516\n",
            "[flaml.automl: 07-01 07:02:26] {1013} INFO - iteration 47, current learner xgboost\n",
            "[flaml.automl: 07-01 07:02:26] {1165} INFO -  at 12.6s,\tbest xgboost's error=0.0516,\tbest xgboost's error=0.0516\n",
            "[flaml.automl: 07-01 07:02:26] {1013} INFO - iteration 48, current learner lgbm\n",
            "[flaml.automl: 07-01 07:02:26] {1165} INFO -  at 12.6s,\tbest lgbm's error=0.0685,\tbest xgboost's error=0.0516\n",
            "[flaml.automl: 07-01 07:02:26] {1013} INFO - iteration 49, current learner xgboost\n",
            "[flaml.automl: 07-01 07:02:26] {1165} INFO -  at 12.7s,\tbest xgboost's error=0.0516,\tbest xgboost's error=0.0516\n",
            "[flaml.automl: 07-01 07:02:26] {1013} INFO - iteration 50, current learner xgboost\n",
            "[flaml.automl: 07-01 07:02:26] {1165} INFO -  at 12.8s,\tbest xgboost's error=0.0516,\tbest xgboost's error=0.0516\n",
            "[flaml.automl: 07-01 07:02:26] {1013} INFO - iteration 51, current learner xgboost\n",
            "[flaml.automl: 07-01 07:02:26] {1165} INFO -  at 12.8s,\tbest xgboost's error=0.0516,\tbest xgboost's error=0.0516\n",
            "[flaml.automl: 07-01 07:02:26] {1013} INFO - iteration 52, current learner lgbm\n",
            "[flaml.automl: 07-01 07:02:26] {1165} INFO -  at 12.9s,\tbest lgbm's error=0.0685,\tbest xgboost's error=0.0516\n",
            "[flaml.automl: 07-01 07:02:26] {1013} INFO - iteration 53, current learner lgbm\n",
            "[flaml.automl: 07-01 07:02:26] {1165} INFO -  at 13.0s,\tbest lgbm's error=0.0667,\tbest xgboost's error=0.0516\n",
            "[flaml.automl: 07-01 07:02:26] {1013} INFO - iteration 54, current learner lgbm\n",
            "[flaml.automl: 07-01 07:02:26] {1165} INFO -  at 13.0s,\tbest lgbm's error=0.0667,\tbest xgboost's error=0.0516\n",
            "[flaml.automl: 07-01 07:02:26] {1013} INFO - iteration 55, current learner xgboost\n",
            "[flaml.automl: 07-01 07:02:26] {1165} INFO -  at 13.1s,\tbest xgboost's error=0.0516,\tbest xgboost's error=0.0516\n",
            "[flaml.automl: 07-01 07:02:26] {1013} INFO - iteration 56, current learner xgboost\n",
            "[flaml.automl: 07-01 07:02:26] {1165} INFO -  at 13.1s,\tbest xgboost's error=0.0516,\tbest xgboost's error=0.0516\n",
            "[flaml.automl: 07-01 07:02:26] {1013} INFO - iteration 57, current learner xgboost\n",
            "[flaml.automl: 07-01 07:02:27] {1165} INFO -  at 13.2s,\tbest xgboost's error=0.0516,\tbest xgboost's error=0.0516\n",
            "[flaml.automl: 07-01 07:02:27] {1013} INFO - iteration 58, current learner xgboost\n",
            "[flaml.automl: 07-01 07:02:27] {1165} INFO -  at 13.3s,\tbest xgboost's error=0.0516,\tbest xgboost's error=0.0516\n",
            "[flaml.automl: 07-01 07:02:27] {1013} INFO - iteration 59, current learner xgboost\n",
            "[flaml.automl: 07-01 07:02:27] {1165} INFO -  at 13.4s,\tbest xgboost's error=0.0463,\tbest xgboost's error=0.0463\n",
            "[flaml.automl: 07-01 07:02:27] {1013} INFO - iteration 60, current learner xgboost\n",
            "[flaml.automl: 07-01 07:02:27] {1165} INFO -  at 13.5s,\tbest xgboost's error=0.0463,\tbest xgboost's error=0.0463\n",
            "[flaml.automl: 07-01 07:02:27] {1013} INFO - iteration 61, current learner xgboost\n",
            "[flaml.automl: 07-01 07:02:27] {1165} INFO -  at 13.6s,\tbest xgboost's error=0.0463,\tbest xgboost's error=0.0463\n",
            "[flaml.automl: 07-01 07:02:27] {1013} INFO - iteration 62, current learner xgboost\n",
            "[flaml.automl: 07-01 07:02:27] {1165} INFO -  at 13.6s,\tbest xgboost's error=0.0463,\tbest xgboost's error=0.0463\n",
            "[flaml.automl: 07-01 07:02:27] {1013} INFO - iteration 63, current learner xgboost\n",
            "[flaml.automl: 07-01 07:02:27] {1165} INFO -  at 13.9s,\tbest xgboost's error=0.0418,\tbest xgboost's error=0.0418\n",
            "[flaml.automl: 07-01 07:02:27] {1013} INFO - iteration 64, current learner xgboost\n",
            "[flaml.automl: 07-01 07:02:27] {1165} INFO -  at 14.0s,\tbest xgboost's error=0.0418,\tbest xgboost's error=0.0418\n",
            "[flaml.automl: 07-01 07:02:27] {1013} INFO - iteration 65, current learner xgboost\n",
            "[flaml.automl: 07-01 07:02:28] {1165} INFO -  at 14.3s,\tbest xgboost's error=0.0418,\tbest xgboost's error=0.0418\n",
            "[flaml.automl: 07-01 07:02:28] {1013} INFO - iteration 66, current learner xgboost\n",
            "[flaml.automl: 07-01 07:02:28] {1165} INFO -  at 14.5s,\tbest xgboost's error=0.0418,\tbest xgboost's error=0.0418\n",
            "[flaml.automl: 07-01 07:02:28] {1013} INFO - iteration 67, current learner xgboost\n",
            "[flaml.automl: 07-01 07:02:28] {1165} INFO -  at 14.7s,\tbest xgboost's error=0.0418,\tbest xgboost's error=0.0418\n",
            "[flaml.automl: 07-01 07:02:28] {1013} INFO - iteration 68, current learner xgboost\n",
            "[flaml.automl: 07-01 07:02:29] {1165} INFO -  at 15.5s,\tbest xgboost's error=0.0418,\tbest xgboost's error=0.0418\n",
            "[flaml.automl: 07-01 07:02:29] {1013} INFO - iteration 69, current learner catboost\n",
            "[flaml.automl: 07-01 07:02:30] {1165} INFO -  at 16.5s,\tbest catboost's error=0.0552,\tbest xgboost's error=0.0418\n",
            "[flaml.automl: 07-01 07:02:30] {1013} INFO - iteration 70, current learner catboost\n",
            "[flaml.automl: 07-01 07:02:31] {1165} INFO -  at 17.3s,\tbest catboost's error=0.0552,\tbest xgboost's error=0.0418\n",
            "[flaml.automl: 07-01 07:02:31] {1013} INFO - iteration 71, current learner xgboost\n",
            "[flaml.automl: 07-01 07:02:31] {1165} INFO -  at 17.3s,\tbest xgboost's error=0.0418,\tbest xgboost's error=0.0418\n",
            "[flaml.automl: 07-01 07:02:31] {1013} INFO - iteration 72, current learner catboost\n",
            "[flaml.automl: 07-01 07:02:31] {1165} INFO -  at 18.0s,\tbest catboost's error=0.0552,\tbest xgboost's error=0.0418\n",
            "[flaml.automl: 07-01 07:02:31] {1013} INFO - iteration 73, current learner extra_tree\n",
            "[flaml.automl: 07-01 07:02:32] {1165} INFO -  at 19.1s,\tbest extra_tree's error=0.0969,\tbest xgboost's error=0.0418\n",
            "[flaml.automl: 07-01 07:02:32] {1013} INFO - iteration 74, current learner xgboost\n",
            "[flaml.automl: 07-01 07:02:33] {1165} INFO -  at 19.4s,\tbest xgboost's error=0.0418,\tbest xgboost's error=0.0418\n",
            "[flaml.automl: 07-01 07:02:33] {1013} INFO - iteration 75, current learner xgboost\n",
            "[flaml.automl: 07-01 07:02:33] {1165} INFO -  at 19.5s,\tbest xgboost's error=0.0418,\tbest xgboost's error=0.0418\n",
            "[flaml.automl: 07-01 07:02:33] {1013} INFO - iteration 76, current learner catboost\n",
            "[flaml.automl: 07-01 07:02:34] {1165} INFO -  at 20.2s,\tbest catboost's error=0.0552,\tbest xgboost's error=0.0418\n",
            "[flaml.automl: 07-01 07:02:34] {1013} INFO - iteration 77, current learner catboost\n",
            "[flaml.automl: 07-01 07:02:34] {1165} INFO -  at 20.8s,\tbest catboost's error=0.0552,\tbest xgboost's error=0.0418\n",
            "[flaml.automl: 07-01 07:02:34] {1013} INFO - iteration 78, current learner xgboost\n",
            "[flaml.automl: 07-01 07:02:34] {1165} INFO -  at 21.1s,\tbest xgboost's error=0.0418,\tbest xgboost's error=0.0418\n",
            "[flaml.automl: 07-01 07:02:34] {1013} INFO - iteration 79, current learner catboost\n",
            "[flaml.automl: 07-01 07:02:35] {1165} INFO -  at 21.7s,\tbest catboost's error=0.0552,\tbest xgboost's error=0.0418\n",
            "[flaml.automl: 07-01 07:02:35] {1013} INFO - iteration 80, current learner catboost\n",
            "[flaml.automl: 07-01 07:02:36] {1165} INFO -  at 22.3s,\tbest catboost's error=0.0552,\tbest xgboost's error=0.0418\n",
            "[flaml.automl: 07-01 07:02:36] {1013} INFO - iteration 81, current learner extra_tree\n",
            "[flaml.automl: 07-01 07:02:37] {1165} INFO -  at 23.5s,\tbest extra_tree's error=0.0969,\tbest xgboost's error=0.0418\n",
            "[flaml.automl: 07-01 07:02:37] {1013} INFO - iteration 82, current learner catboost\n",
            "[flaml.automl: 07-01 07:02:37] {1165} INFO -  at 24.0s,\tbest catboost's error=0.0552,\tbest xgboost's error=0.0418\n",
            "[flaml.automl: 07-01 07:02:37] {1013} INFO - iteration 83, current learner xgboost\n",
            "[flaml.automl: 07-01 07:02:37] {1165} INFO -  at 24.1s,\tbest xgboost's error=0.0418,\tbest xgboost's error=0.0418\n",
            "[flaml.automl: 07-01 07:02:37] {1013} INFO - iteration 84, current learner xgboost\n",
            "[flaml.automl: 07-01 07:02:38] {1165} INFO -  at 24.3s,\tbest xgboost's error=0.0418,\tbest xgboost's error=0.0418\n",
            "[flaml.automl: 07-01 07:02:38] {1013} INFO - iteration 85, current learner extra_tree\n",
            "[flaml.automl: 07-01 07:02:39] {1165} INFO -  at 25.6s,\tbest extra_tree's error=0.0969,\tbest xgboost's error=0.0418\n",
            "[flaml.automl: 07-01 07:02:39] {1013} INFO - iteration 86, current learner xgboost\n",
            "[flaml.automl: 07-01 07:02:39] {1165} INFO -  at 25.9s,\tbest xgboost's error=0.0418,\tbest xgboost's error=0.0418\n",
            "[flaml.automl: 07-01 07:02:39] {1013} INFO - iteration 87, current learner xgboost\n",
            "[flaml.automl: 07-01 07:02:39] {1165} INFO -  at 26.1s,\tbest xgboost's error=0.0418,\tbest xgboost's error=0.0418\n",
            "[flaml.automl: 07-01 07:02:39] {1013} INFO - iteration 88, current learner catboost\n",
            "[flaml.automl: 07-01 07:02:40] {1165} INFO -  at 26.5s,\tbest catboost's error=0.0552,\tbest xgboost's error=0.0418\n",
            "[flaml.automl: 07-01 07:02:40] {1013} INFO - iteration 89, current learner catboost\n",
            "[flaml.automl: 07-01 07:02:40] {1165} INFO -  at 26.8s,\tbest catboost's error=0.0552,\tbest xgboost's error=0.0418\n",
            "[flaml.automl: 07-01 07:02:40] {1013} INFO - iteration 90, current learner extra_tree\n",
            "[flaml.automl: 07-01 07:02:41] {1165} INFO -  at 28.1s,\tbest extra_tree's error=0.0969,\tbest xgboost's error=0.0418\n",
            "[flaml.automl: 07-01 07:02:41] {1013} INFO - iteration 91, current learner xgboost\n",
            "[flaml.automl: 07-01 07:02:42] {1165} INFO -  at 28.3s,\tbest xgboost's error=0.0418,\tbest xgboost's error=0.0418\n",
            "[flaml.automl: 07-01 07:02:42] {1013} INFO - iteration 92, current learner extra_tree\n",
            "[flaml.automl: 07-01 07:02:43] {1165} INFO -  at 29.4s,\tbest extra_tree's error=0.0969,\tbest xgboost's error=0.0418\n",
            "[flaml.automl: 07-01 07:02:43] {1013} INFO - iteration 93, current learner xgboost\n",
            "[flaml.automl: 07-01 07:02:43] {1165} INFO -  at 29.7s,\tbest xgboost's error=0.0418,\tbest xgboost's error=0.0418\n",
            "[flaml.automl: 07-01 07:02:43] {1013} INFO - iteration 94, current learner xgboost\n",
            "[flaml.automl: 07-01 07:02:43] {1165} INFO -  at 29.8s,\tbest xgboost's error=0.0418,\tbest xgboost's error=0.0418\n",
            "[flaml.automl: 07-01 07:02:43] {1013} INFO - iteration 95, current learner lgbm\n",
            "[flaml.automl: 07-01 07:02:43] {1165} INFO -  at 29.9s,\tbest lgbm's error=0.0667,\tbest xgboost's error=0.0418\n",
            "[flaml.automl: 07-01 07:02:43] {1013} INFO - iteration 96, current learner lgbm\n",
            "[flaml.automl: 07-01 07:02:43] {1165} INFO -  at 29.9s,\tbest lgbm's error=0.0667,\tbest xgboost's error=0.0418\n",
            "[flaml.automl: 07-01 07:02:43] {1013} INFO - iteration 97, current learner lgbm\n",
            "[flaml.automl: 07-01 07:02:43] {1165} INFO -  at 30.0s,\tbest lgbm's error=0.0667,\tbest xgboost's error=0.0418\n",
            "[flaml.automl: 07-01 07:02:43] {1205} INFO - selected model: <xgboost.core.Booster object at 0x7fe631b3bdd0>\n",
            "[flaml.automl: 07-01 07:02:43] {963} INFO - fit succeeded\n"
          ],
          "name": "stderr"
        }
      ]
    },
    {
      "cell_type": "markdown",
      "metadata": {
        "id": "-O3q7Hsty6WE"
      },
      "source": [
        "### Best model and metric"
      ]
    },
    {
      "cell_type": "code",
      "metadata": {
        "tags": [],
        "id": "goQdqs8Wy6WF",
        "colab": {
          "base_uri": "https://localhost:8080/"
        },
        "outputId": "6e94fd60-9a8c-49d1-a6a2-18977adcb1ca"
      },
      "source": [
        "''' retrieve best config and best learner'''\n",
        "print('Best ML leaner:', automl.best_estimator)\n",
        "print('Best hyperparmeter config:', automl.best_config)\n",
        "print('Best accuracy on validation data: {0:.4g}'.format(1-automl.best_loss))\n",
        "print('Training duration of best run: {0:.4g} s'.format(automl.best_config_train_time))"
      ],
      "execution_count": 19,
      "outputs": [
        {
          "output_type": "stream",
          "text": [
            "Best ML leaner: xgboost\n",
            "Best hyperparmeter config: {'n_estimators': 64.0, 'max_leaves': 39.0, 'min_child_weight': 17.59573040671457, 'learning_rate': 0.35814087229476244, 'subsample': 1.0, 'colsample_bylevel': 1.0, 'colsample_bytree': 0.8738265069989992, 'reg_alpha': 0.4912871564566781, 'reg_lambda': 0.8587415605291749}\n",
            "Best accuracy on validation data: 0.9582\n",
            "Training duration of best run: 0.2702 s\n"
          ],
          "name": "stdout"
        }
      ]
    },
    {
      "cell_type": "code",
      "metadata": {
        "id": "E9BEQY3Hy6WG",
        "colab": {
          "base_uri": "https://localhost:8080/"
        },
        "outputId": "12ddf6ac-dfe1-4ce6-f41c-7e1bf00b174f"
      },
      "source": [
        "automl.model"
      ],
      "execution_count": 20,
      "outputs": [
        {
          "output_type": "execute_result",
          "data": {
            "text/plain": [
              "<flaml.model.XGBoostEstimator at 0x7fe631b3b210>"
            ]
          },
          "metadata": {
            "tags": []
          },
          "execution_count": 20
        }
      ]
    },
    {
      "cell_type": "code",
      "metadata": {
        "id": "UjYUAkqMy6WG"
      },
      "source": [
        "''' pickle and save the automl object '''\n",
        "import pickle\n",
        "with open('automl.pkl', 'wb') as f:\n",
        "    pickle.dump(automl, f, pickle.HIGHEST_PROTOCOL)"
      ],
      "execution_count": 21,
      "outputs": []
    },
    {
      "cell_type": "code",
      "metadata": {
        "tags": [],
        "id": "kMfpg1p0y6WH",
        "colab": {
          "base_uri": "https://localhost:8080/"
        },
        "outputId": "2b466a39-4a90-4aa9-bd87-7ce85a636489"
      },
      "source": [
        "''' compute predictions of testing dataset ''' \n",
        "y_test=df_Y[1501:2000]\n",
        "y_pred = automl.predict(df_X[1501:2000])\n",
        "print('Predicted labels-True labels', y_pred-y_test)\n",
        "#print('True labels', y_test)\n"
      ],
      "execution_count": 22,
      "outputs": [
        {
          "output_type": "stream",
          "text": [
            "Predicted labels-True labels [[-1.575185097184571 -1.575185097184571 -1.575185097184571 ...\n",
            "  26.043560706648435 22.42546721604785 22.42546721604785]\n",
            " [-1.575185097184571 -1.575185097184571 -1.575185097184571 ...\n",
            "  26.043560706648435 22.42546721604785 22.42546721604785]\n",
            " [-1.575185097184571 -1.575185097184571 -1.575185097184571 ...\n",
            "  26.043560706648435 22.42546721604785 22.42546721604785]\n",
            " ...\n",
            " [-8.31776003738727 -8.31776003738727 -8.31776003738727 ...\n",
            "  19.300985766445738 15.682892275845152 15.682892275845152]\n",
            " [-3.521663487714571 -3.521663487714571 -3.521663487714571 ...\n",
            "  24.09708231611844 20.478988825517852 20.478988825517852]\n",
            " [-3.521663487714571 -3.521663487714571 -3.521663487714571 ...\n",
            "  24.09708231611844 20.478988825517852 20.478988825517852]]\n"
          ],
          "name": "stdout"
        }
      ]
    },
    {
      "cell_type": "markdown",
      "metadata": {
        "id": "aav31v3gy6WI"
      },
      "source": [
        "See Section 4 for an accuracy comparison with default LightGBM and XGBoost.\n",
        "\n",
        "### Log history"
      ]
    },
    {
      "cell_type": "code",
      "metadata": {
        "tags": [],
        "id": "FZv8c5ezy6WI",
        "colab": {
          "base_uri": "https://localhost:8080/"
        },
        "outputId": "6084d9b8-7355-4f9e-8eca-203074a44ca4"
      },
      "source": [
        "from flaml.data import get_output_from_log\n",
        "time_history, best_valid_loss_history, valid_loss_history, config_history, train_loss_history = \\\n",
        "    get_output_from_log(filename=settings['log_file_name'], time_budget=60)\n",
        "\n",
        "for config in config_history:\n",
        "    print(config)"
      ],
      "execution_count": 24,
      "outputs": [
        {
          "output_type": "stream",
          "text": [
            "{'Current Learner': 'lgbm', 'Current Sample': 1500, 'Current Hyper-parameters': {'n_estimators': 4, 'num_leaves': 4, 'min_child_samples': 20, 'learning_rate': 0.1, 'subsample': 1.0, 'log_max_bin': 8, 'colsample_bytree': 1.0, 'reg_alpha': 0.0009765625, 'reg_lambda': 1.0}, 'Best Learner': 'lgbm', 'Best Hyper-parameters': {'n_estimators': 4, 'num_leaves': 4, 'min_child_samples': 20, 'learning_rate': 0.1, 'subsample': 1.0, 'log_max_bin': 8, 'colsample_bytree': 1.0, 'reg_alpha': 0.0009765625, 'reg_lambda': 1.0}}\n",
            "{'Current Learner': 'lgbm', 'Current Sample': 1500, 'Current Hyper-parameters': {'n_estimators': 4.0, 'num_leaves': 4.0, 'min_child_samples': 12.0, 'learning_rate': 0.25912534572860507, 'subsample': 0.9266743941610592, 'log_max_bin': 10.0, 'colsample_bytree': 1.0, 'reg_alpha': 0.0013933617380144255, 'reg_lambda': 0.18096917948292954}, 'Best Learner': 'lgbm', 'Best Hyper-parameters': {'n_estimators': 4.0, 'num_leaves': 4.0, 'min_child_samples': 12.0, 'learning_rate': 0.25912534572860507, 'subsample': 0.9266743941610592, 'log_max_bin': 10.0, 'colsample_bytree': 1.0, 'reg_alpha': 0.0013933617380144255, 'reg_lambda': 0.18096917948292954}}\n",
            "{'Current Learner': 'lgbm', 'Current Sample': 1500, 'Current Hyper-parameters': {'n_estimators': 4.0, 'num_leaves': 4.0, 'min_child_samples': 24.0, 'learning_rate': 1.0, 'subsample': 0.8513627344387318, 'log_max_bin': 10.0, 'colsample_bytree': 0.946138073111236, 'reg_alpha': 0.0018311776973217071, 'reg_lambda': 0.27901659190538414}, 'Best Learner': 'lgbm', 'Best Hyper-parameters': {'n_estimators': 4.0, 'num_leaves': 4.0, 'min_child_samples': 24.0, 'learning_rate': 1.0, 'subsample': 0.8513627344387318, 'log_max_bin': 10.0, 'colsample_bytree': 0.946138073111236, 'reg_alpha': 0.0018311776973217071, 'reg_lambda': 0.27901659190538414}}\n",
            "{'Current Learner': 'lgbm', 'Current Sample': 1500, 'Current Hyper-parameters': {'n_estimators': 8.0, 'num_leaves': 4.0, 'min_child_samples': 36.0, 'learning_rate': 1.0, 'subsample': 0.8894434216129232, 'log_max_bin': 10.0, 'colsample_bytree': 1.0, 'reg_alpha': 0.0013605736901132325, 'reg_lambda': 0.1222158118565165}, 'Best Learner': 'lgbm', 'Best Hyper-parameters': {'n_estimators': 8.0, 'num_leaves': 4.0, 'min_child_samples': 36.0, 'learning_rate': 1.0, 'subsample': 0.8894434216129232, 'log_max_bin': 10.0, 'colsample_bytree': 1.0, 'reg_alpha': 0.0013605736901132325, 'reg_lambda': 0.1222158118565165}}\n",
            "{'Current Learner': 'lgbm', 'Current Sample': 1500, 'Current Hyper-parameters': {'n_estimators': 12.0, 'num_leaves': 4.0, 'min_child_samples': 46.0, 'learning_rate': 1.0, 'subsample': 0.9814787163243813, 'log_max_bin': 9.0, 'colsample_bytree': 0.8499027725496043, 'reg_alpha': 0.0022085340760961856, 'reg_lambda': 0.546062702473889}, 'Best Learner': 'lgbm', 'Best Hyper-parameters': {'n_estimators': 12.0, 'num_leaves': 4.0, 'min_child_samples': 46.0, 'learning_rate': 1.0, 'subsample': 0.9814787163243813, 'log_max_bin': 9.0, 'colsample_bytree': 0.8499027725496043, 'reg_alpha': 0.0022085340760961856, 'reg_lambda': 0.546062702473889}}\n",
            "{'Current Learner': 'lgbm', 'Current Sample': 1500, 'Current Hyper-parameters': {'n_estimators': 12.0, 'num_leaves': 8.0, 'min_child_samples': 52.0, 'learning_rate': 1.0, 'subsample': 1.0, 'log_max_bin': 9.0, 'colsample_bytree': 0.7967145599266738, 'reg_alpha': 0.05680749758595097, 'reg_lambda': 2.756357095973371}, 'Best Learner': 'lgbm', 'Best Hyper-parameters': {'n_estimators': 12.0, 'num_leaves': 8.0, 'min_child_samples': 52.0, 'learning_rate': 1.0, 'subsample': 1.0, 'log_max_bin': 9.0, 'colsample_bytree': 0.7967145599266738, 'reg_alpha': 0.05680749758595097, 'reg_lambda': 2.756357095973371}}\n",
            "{'Current Learner': 'extra', 'Current Sample': 1500, 'Current Hyper-parameters': {'n_estimators': 4, 'max_features': 1.0}, 'Best Learner': 'extra', 'Best Hyper-parameters': {'n_estimators': 4, 'max_features': 1.0}}\n",
            "{'Current Learner': 'rf', 'Current Sample': 1500, 'Current Hyper-parameters': {'n_estimators': 4, 'max_features': 1.0}, 'Best Learner': 'rf', 'Best Hyper-parameters': {'n_estimators': 4, 'max_features': 1.0}}\n",
            "{'Current Learner': 'lgbm', 'Current Sample': 1500, 'Current Hyper-parameters': {'n_estimators': 18.0, 'num_leaves': 12.0, 'min_child_samples': 26.0, 'learning_rate': 1.0, 'subsample': 1.0, 'log_max_bin': 7.0, 'colsample_bytree': 0.7125410881789049, 'reg_alpha': 0.10242650284313282, 'reg_lambda': 1.4366345573582888}, 'Best Learner': 'lgbm', 'Best Hyper-parameters': {'n_estimators': 18.0, 'num_leaves': 12.0, 'min_child_samples': 26.0, 'learning_rate': 1.0, 'subsample': 1.0, 'log_max_bin': 7.0, 'colsample_bytree': 0.7125410881789049, 'reg_alpha': 0.10242650284313282, 'reg_lambda': 1.4366345573582888}}\n",
            "{'Current Learner': 'xgboost', 'Current Sample': 1500, 'Current Hyper-parameters': {'n_estimators': 9.0, 'max_leaves': 19.0, 'min_child_weight': 2.095701363911871, 'learning_rate': 1.0, 'subsample': 0.9900375639180253, 'colsample_bylevel': 0.8091595116713156, 'colsample_bytree': 0.7574613182915663, 'reg_alpha': 0.3179731521375356, 'reg_lambda': 0.7926097410522872}, 'Best Learner': 'xgboost', 'Best Hyper-parameters': {'n_estimators': 9.0, 'max_leaves': 19.0, 'min_child_weight': 2.095701363911871, 'learning_rate': 1.0, 'subsample': 0.9900375639180253, 'colsample_bylevel': 0.8091595116713156, 'colsample_bytree': 0.7574613182915663, 'reg_alpha': 0.3179731521375356, 'reg_lambda': 0.7926097410522872}}\n",
            "{'Current Learner': 'xgboost', 'Current Sample': 1500, 'Current Hyper-parameters': {'n_estimators': 22.0, 'max_leaves': 38.0, 'min_child_weight': 9.095438738085027, 'learning_rate': 0.7524449960875269, 'subsample': 1.0, 'colsample_bylevel': 0.9271522667087353, 'colsample_bytree': 0.753557146306895, 'reg_alpha': 1.8791906352607546, 'reg_lambda': 1.9040341401102114}, 'Best Learner': 'xgboost', 'Best Hyper-parameters': {'n_estimators': 22.0, 'max_leaves': 38.0, 'min_child_weight': 9.095438738085027, 'learning_rate': 0.7524449960875269, 'subsample': 1.0, 'colsample_bylevel': 0.9271522667087353, 'colsample_bytree': 0.753557146306895, 'reg_alpha': 1.8791906352607546, 'reg_lambda': 1.9040341401102114}}\n",
            "{'Current Learner': 'xgboost', 'Current Sample': 1500, 'Current Hyper-parameters': {'n_estimators': 64.0, 'max_leaves': 39.0, 'min_child_weight': 17.59573040671457, 'learning_rate': 0.35814087229476244, 'subsample': 1.0, 'colsample_bylevel': 1.0, 'colsample_bytree': 0.8738265069989992, 'reg_alpha': 0.4912871564566781, 'reg_lambda': 0.8587415605291749}, 'Best Learner': 'xgboost', 'Best Hyper-parameters': {'n_estimators': 64.0, 'max_leaves': 39.0, 'min_child_weight': 17.59573040671457, 'learning_rate': 0.35814087229476244, 'subsample': 1.0, 'colsample_bylevel': 1.0, 'colsample_bytree': 0.8738265069989992, 'reg_alpha': 0.4912871564566781, 'reg_lambda': 0.8587415605291749}}\n"
          ],
          "name": "stdout"
        }
      ]
    },
    {
      "cell_type": "code",
      "metadata": {
        "id": "SSU9iuVmy6WI",
        "colab": {
          "base_uri": "https://localhost:8080/",
          "height": 295
        },
        "outputId": "15499f7e-4fa2-4d2c-d864-654a1f7c08a7"
      },
      "source": [
        "import matplotlib.pyplot as plt\n",
        "import numpy as np\n",
        "\n",
        "plt.title('Learning Curve')\n",
        "plt.xlabel('Wall Clock Time (s)')\n",
        "plt.ylabel('Validation Accuracy')\n",
        "plt.scatter(time_history, 1 - np.array(valid_loss_history))\n",
        "plt.step(time_history, 1 - np.array(best_valid_loss_history), where='post')\n",
        "plt.show()"
      ],
      "execution_count": 25,
      "outputs": [
        {
          "output_type": "display_data",
          "data": {
            "image/png": "[encoded data removed]",
            "text/plain": [
              "<Figure size 432x288 with 1 Axes>"
            ]
          },
          "metadata": {
            "tags": [],
            "needs_background": "light"
          }
        }
      ]
    },
    {
      "cell_type": "markdown",
      "metadata": {
        "id": "zGL4XP-Jy6WJ"
      },
      "source": [
        "## 3. Customized Learner"
      ]
    },
    {
      "cell_type": "markdown",
      "metadata": {
        "id": "axFU8ytRy6WJ"
      },
      "source": [
        "Some experienced automl users may have a preferred model to tune or may already have a reasonably by-hand-tuned model before launching the automl experiment. They need to select optimal configurations for the customized model mixed with standard built-in learners. \n",
        "\n",
        "FLAML can easily incorporate customized/new learners (preferably with sklearn API) provided by users in a real-time manner, as demonstrated below."
      ]
    },
    {
      "cell_type": "markdown",
      "metadata": {
        "id": "reuHZNSgy6WK"
      },
      "source": [
        "### Example of Regularized Greedy Forest\n",
        "\n",
        "[Regularized Greedy Forest](https://arxiv.org/abs/1109.0887) (RGF) is a machine learning method currently not included in FLAML. The RGF has many tuning parameters, the most critical of which are: `[max_leaf, n_iter, n_tree_search, opt_interval, min_samples_leaf]`. To run a customized/new learner, the user needs to provide the following information:\n",
        "* an implementation of the customized/new learner\n",
        "* a list of hyperparameter names and types\n",
        "* rough ranges of hyperparameters (i.e., upper/lower bounds)\n",
        "* choose initial value corresponding to low cost for cost-related hyperparameters (e.g., initial value for max_leaf and n_iter should be small)\n",
        "\n",
        "In this example, the above information for RGF is wrapped in a python class called *MyRegularizedGreedyForest* that exposes the hyperparameters."
      ]
    },
    {
      "cell_type": "code",
      "metadata": {
        "id": "ABd38fFUy6WL"
      },
      "source": [
        "''' SKLearnEstimator is the super class for a sklearn learner '''\n",
        "from flaml.model import SKLearnEstimator\n",
        "from flaml import tune\n",
        "from rgf.sklearn import RGFClassifier, RGFRegressor\n",
        "\n",
        "\n",
        "class MyRegularizedGreedyForest(SKLearnEstimator):\n",
        "\n",
        "\n",
        "    def __init__(self, task='binary:logistic', n_jobs=1, **params):\n",
        "        '''Constructor\n",
        "        \n",
        "        Args:\n",
        "            task: A string of the task type, one of\n",
        "                'binary:logistic', 'multi:softmax', 'regression'\n",
        "            n_jobs: An integer of the number of parallel threads\n",
        "            params: A dictionary of the hyperparameter names and values\n",
        "        '''\n",
        "\n",
        "        super().__init__(task, **params)\n",
        "\n",
        "        '''task=regression for RGFRegressor; \n",
        "        binary:logistic and multiclass:softmax for RGFClassifier'''\n",
        "        if 'regression' in task:\n",
        "            self.estimator_class = RGFRegressor\n",
        "        else:\n",
        "            self.estimator_class = RGFClassifier\n",
        "\n",
        "        # convert to int for integer hyperparameters\n",
        "        self.params = {\n",
        "            \"n_jobs\": n_jobs,\n",
        "            'max_leaf': int(params['max_leaf']),\n",
        "            'n_iter': int(params['n_iter']),\n",
        "            'n_tree_search': int(params['n_tree_search']),\n",
        "            'opt_interval': int(params['opt_interval']),\n",
        "            'learning_rate': params['learning_rate'],\n",
        "            'min_samples_leaf': int(params['min_samples_leaf'])\n",
        "        }    \n",
        "\n",
        "    @classmethod\n",
        "    def search_space(cls, data_size, task):\n",
        "        '''[required method] search space\n",
        "\n",
        "        Returns:\n",
        "            A dictionary of the search space. \n",
        "            Each key is the name of a hyperparameter, and value is a dict with\n",
        "                its domain and init_value (optional), cat_hp_cost (optional) \n",
        "                e.g., \n",
        "                {'domain': tune.randint(lower=1, upper=10), 'init_value': 1}\n",
        "        '''\n",
        "        space = {        \n",
        "            'max_leaf': {'domain': tune.qloguniform(lower=4, upper=data_size, q=1), 'init_value': 4, 'low_cost_init_value': 4},\n",
        "            'n_iter': {'domain': tune.qloguniform(lower=1, upper=data_size, q=1), 'init_value': 1, 'low_cost_init_value': 1},\n",
        "            'n_tree_search': {'domain': tune.qloguniform(lower=1, upper=32768, q=1), 'init_value': 1, 'low_cost_init_value': 1},\n",
        "            'opt_interval': {'domain': tune.qloguniform(lower=1, upper=10000, q=1), 'init_value': 100},\n",
        "            'learning_rate': {'domain': tune.loguniform(lower=0.01, upper=20.0)},\n",
        "            'min_samples_leaf': {'domain': tune.qloguniform(lower=1, upper=20, q=1), 'init_value': 20},\n",
        "        }\n",
        "        return space\n",
        "\n",
        "    @classmethod\n",
        "    def size(cls, config):\n",
        "        '''[optional method] memory size of the estimator in bytes\n",
        "        \n",
        "        Args:\n",
        "            config - the dict of the hyperparameter config\n",
        "\n",
        "        Returns:\n",
        "            A float of the memory size required by the estimator to train the\n",
        "            given config\n",
        "        '''\n",
        "        max_leaves = int(round(config['max_leaf']))\n",
        "        n_estimators = int(round(config['n_iter']))\n",
        "        return (max_leaves * 3 + (max_leaves - 1) * 4 + 1.0) * n_estimators * 8\n",
        "\n",
        "    @classmethod\n",
        "    def cost_relative2lgbm(cls):\n",
        "        '''[optional method] relative cost compared to lightgbm\n",
        "        '''\n",
        "        return 1.0\n"
      ],
      "execution_count": null,
      "outputs": []
    },
    {
      "cell_type": "markdown",
      "metadata": {
        "id": "DRwHkOOVy6WM"
      },
      "source": [
        "### Add Customized Learner and Run FLAML AutoML\n",
        "\n",
        "After adding RGF into the list of learners, we run automl by tuning hyperpameters of RGF as well as the default learners. "
      ]
    },
    {
      "cell_type": "code",
      "metadata": {
        "id": "5hzpUWawy6WN"
      },
      "source": [
        "automl = AutoML()\n",
        "automl.add_learner(learner_name='RGF', learner_class=MyRegularizedGreedyForest)"
      ],
      "execution_count": null,
      "outputs": []
    },
    {
      "cell_type": "code",
      "metadata": {
        "tags": [],
        "id": "nXgeRqzUy6WN",
        "outputId": "c3099555-112e-4636-e4a5-f555cebb43b2"
      },
      "source": [
        "settings = {\n",
        "    \"time_budget\": 60,  # total running time in seconds\n",
        "    \"metric\": 'accuracy', \n",
        "    \"estimator_list\": ['RGF', 'lgbm', 'rf', 'xgboost'],  # list of ML learners\n",
        "    \"task\": 'classification',  # task type    \n",
        "    \"log_file_name\": 'airlines_experiment_custom.log',  # flaml log file \n",
        "    \"log_training_metric\": True,  # whether to log training metric\n",
        "}\n",
        "\n",
        "'''The main flaml automl API'''\n",
        "automl.fit(X_train = X_train, y_train = y_train, **settings)"
      ],
      "execution_count": null,
      "outputs": [
        {
          "output_type": "stream",
          "text": [
            "[flaml.automl: 05-01 16:27:27] {890} INFO - Evaluation method: holdout\n",
            "[flaml.automl: 05-01 16:27:27] {596} INFO - Using StratifiedKFold\n",
            "[flaml.automl: 05-01 16:27:27] {911} INFO - Minimizing error metric: 1-accuracy\n",
            "[flaml.automl: 05-01 16:27:27] {929} INFO - List of ML learners in AutoML Run: ['RGF', 'lgbm', 'rf', 'xgboost']\n",
            "[flaml.automl: 05-01 16:27:27] {993} INFO - iteration 0, current learner RGF\n",
            "/home/dmx/miniconda2/envs/blend/lib/python3.8/site-packages/rgf/utils.py:225: UserWarning: Cannot find FastRGF executable files. FastRGF estimators will be unavailable for usage.\n",
            "  warnings.warn(\"Cannot find FastRGF executable files. \"\n",
            "[flaml.automl: 05-01 16:27:30] {1141} INFO -  at 2.8s,\tbest RGF's error=0.3840,\tbest RGF's error=0.3840\n",
            "[flaml.automl: 05-01 16:27:30] {993} INFO - iteration 1, current learner RGF\n",
            "[flaml.automl: 05-01 16:27:31] {1141} INFO -  at 4.1s,\tbest RGF's error=0.3840,\tbest RGF's error=0.3840\n",
            "[flaml.automl: 05-01 16:27:31] {993} INFO - iteration 2, current learner RGF\n",
            "[flaml.automl: 05-01 16:27:32] {1141} INFO -  at 5.3s,\tbest RGF's error=0.3840,\tbest RGF's error=0.3840\n",
            "[flaml.automl: 05-01 16:27:32] {993} INFO - iteration 3, current learner RGF\n",
            "[flaml.automl: 05-01 16:27:33] {1141} INFO -  at 6.6s,\tbest RGF's error=0.3840,\tbest RGF's error=0.3840\n",
            "[flaml.automl: 05-01 16:27:33] {993} INFO - iteration 4, current learner lgbm\n",
            "[flaml.automl: 05-01 16:27:33] {1141} INFO -  at 6.7s,\tbest lgbm's error=0.3777,\tbest lgbm's error=0.3777\n",
            "[flaml.automl: 05-01 16:27:33] {993} INFO - iteration 5, current learner lgbm\n",
            "[flaml.automl: 05-01 16:27:33] {1141} INFO -  at 6.8s,\tbest lgbm's error=0.3777,\tbest lgbm's error=0.3777\n",
            "[flaml.automl: 05-01 16:27:33] {993} INFO - iteration 6, current learner lgbm\n",
            "[flaml.automl: 05-01 16:27:34] {1141} INFO -  at 6.8s,\tbest lgbm's error=0.3777,\tbest lgbm's error=0.3777\n",
            "[flaml.automl: 05-01 16:27:34] {993} INFO - iteration 7, current learner lgbm\n",
            "[flaml.automl: 05-01 16:27:34] {1141} INFO -  at 6.9s,\tbest lgbm's error=0.3777,\tbest lgbm's error=0.3777\n",
            "[flaml.automl: 05-01 16:27:34] {993} INFO - iteration 8, current learner lgbm\n",
            "[flaml.automl: 05-01 16:27:34] {1141} INFO -  at 7.0s,\tbest lgbm's error=0.3777,\tbest lgbm's error=0.3777\n",
            "[flaml.automl: 05-01 16:27:34] {993} INFO - iteration 9, current learner lgbm\n",
            "[flaml.automl: 05-01 16:27:34] {1141} INFO -  at 7.0s,\tbest lgbm's error=0.3777,\tbest lgbm's error=0.3777\n",
            "[flaml.automl: 05-01 16:27:34] {993} INFO - iteration 10, current learner lgbm\n",
            "[flaml.automl: 05-01 16:27:34] {1141} INFO -  at 7.2s,\tbest lgbm's error=0.3765,\tbest lgbm's error=0.3765\n",
            "[flaml.automl: 05-01 16:27:34] {993} INFO - iteration 11, current learner lgbm\n",
            "[flaml.automl: 05-01 16:27:34] {1141} INFO -  at 7.4s,\tbest lgbm's error=0.3686,\tbest lgbm's error=0.3686\n",
            "[flaml.automl: 05-01 16:27:34] {993} INFO - iteration 12, current learner lgbm\n",
            "[flaml.automl: 05-01 16:27:34] {1141} INFO -  at 7.5s,\tbest lgbm's error=0.3686,\tbest lgbm's error=0.3686\n",
            "[flaml.automl: 05-01 16:27:34] {993} INFO - iteration 13, current learner lgbm\n",
            "[flaml.automl: 05-01 16:27:35] {1141} INFO -  at 7.8s,\tbest lgbm's error=0.3611,\tbest lgbm's error=0.3611\n",
            "[flaml.automl: 05-01 16:27:35] {993} INFO - iteration 14, current learner lgbm\n",
            "[flaml.automl: 05-01 16:27:35] {1141} INFO -  at 8.0s,\tbest lgbm's error=0.3611,\tbest lgbm's error=0.3611\n",
            "[flaml.automl: 05-01 16:27:35] {993} INFO - iteration 15, current learner lgbm\n",
            "[flaml.automl: 05-01 16:27:35] {1141} INFO -  at 8.1s,\tbest lgbm's error=0.3611,\tbest lgbm's error=0.3611\n",
            "[flaml.automl: 05-01 16:27:35] {993} INFO - iteration 16, current learner RGF\n",
            "[flaml.automl: 05-01 16:27:36] {1141} INFO -  at 9.2s,\tbest RGF's error=0.3840,\tbest lgbm's error=0.3611\n",
            "[flaml.automl: 05-01 16:27:36] {993} INFO - iteration 17, current learner lgbm\n",
            "[flaml.automl: 05-01 16:27:36] {1141} INFO -  at 9.5s,\tbest lgbm's error=0.3603,\tbest lgbm's error=0.3603\n",
            "[flaml.automl: 05-01 16:27:36] {993} INFO - iteration 18, current learner lgbm\n",
            "[flaml.automl: 05-01 16:27:37] {1141} INFO -  at 9.8s,\tbest lgbm's error=0.3603,\tbest lgbm's error=0.3603\n",
            "[flaml.automl: 05-01 16:27:37] {993} INFO - iteration 19, current learner lgbm\n",
            "[flaml.automl: 05-01 16:27:37] {1141} INFO -  at 10.2s,\tbest lgbm's error=0.3603,\tbest lgbm's error=0.3603\n",
            "[flaml.automl: 05-01 16:27:37] {993} INFO - iteration 20, current learner lgbm\n",
            "[flaml.automl: 05-01 16:27:37] {1141} INFO -  at 10.5s,\tbest lgbm's error=0.3603,\tbest lgbm's error=0.3603\n",
            "[flaml.automl: 05-01 16:27:37] {993} INFO - iteration 21, current learner lgbm\n",
            "[flaml.automl: 05-01 16:27:38] {1141} INFO -  at 10.8s,\tbest lgbm's error=0.3518,\tbest lgbm's error=0.3518\n",
            "[flaml.automl: 05-01 16:27:38] {993} INFO - iteration 22, current learner lgbm\n",
            "[flaml.automl: 05-01 16:27:38] {1141} INFO -  at 11.0s,\tbest lgbm's error=0.3518,\tbest lgbm's error=0.3518\n",
            "[flaml.automl: 05-01 16:27:38] {993} INFO - iteration 23, current learner lgbm\n",
            "[flaml.automl: 05-01 16:27:39] {1141} INFO -  at 11.8s,\tbest lgbm's error=0.3504,\tbest lgbm's error=0.3504\n",
            "[flaml.automl: 05-01 16:27:39] {993} INFO - iteration 24, current learner lgbm\n",
            "[flaml.automl: 05-01 16:27:39] {1141} INFO -  at 12.1s,\tbest lgbm's error=0.3504,\tbest lgbm's error=0.3504\n",
            "[flaml.automl: 05-01 16:27:39] {993} INFO - iteration 25, current learner lgbm\n",
            "[flaml.automl: 05-01 16:27:43] {1141} INFO -  at 16.1s,\tbest lgbm's error=0.3504,\tbest lgbm's error=0.3504\n",
            "[flaml.automl: 05-01 16:27:43] {993} INFO - iteration 26, current learner lgbm\n",
            "[flaml.automl: 05-01 16:27:48] {1141} INFO -  at 21.0s,\tbest lgbm's error=0.3427,\tbest lgbm's error=0.3427\n",
            "[flaml.automl: 05-01 16:27:48] {993} INFO - iteration 27, current learner xgboost\n",
            "[flaml.automl: 05-01 16:27:48] {1141} INFO -  at 21.0s,\tbest xgboost's error=0.3787,\tbest lgbm's error=0.3427\n",
            "[flaml.automl: 05-01 16:27:48] {993} INFO - iteration 28, current learner xgboost\n",
            "[flaml.automl: 05-01 16:27:48] {1141} INFO -  at 21.1s,\tbest xgboost's error=0.3768,\tbest lgbm's error=0.3427\n",
            "[flaml.automl: 05-01 16:27:48] {993} INFO - iteration 29, current learner RGF\n",
            "[flaml.automl: 05-01 16:27:49] {1141} INFO -  at 22.3s,\tbest RGF's error=0.3762,\tbest lgbm's error=0.3427\n",
            "[flaml.automl: 05-01 16:27:49] {993} INFO - iteration 30, current learner lgbm\n",
            "[flaml.automl: 05-01 16:27:53] {1141} INFO -  at 25.9s,\tbest lgbm's error=0.3427,\tbest lgbm's error=0.3427\n",
            "[flaml.automl: 05-01 16:27:53] {993} INFO - iteration 31, current learner lgbm\n",
            "[flaml.automl: 05-01 16:27:59] {1141} INFO -  at 32.2s,\tbest lgbm's error=0.3427,\tbest lgbm's error=0.3427\n",
            "[flaml.automl: 05-01 16:27:59] {993} INFO - iteration 32, current learner xgboost\n",
            "[flaml.automl: 05-01 16:27:59] {1141} INFO -  at 32.2s,\tbest xgboost's error=0.3765,\tbest lgbm's error=0.3427\n",
            "[flaml.automl: 05-01 16:27:59] {993} INFO - iteration 33, current learner rf\n",
            "[flaml.automl: 05-01 16:27:59] {1141} INFO -  at 32.4s,\tbest rf's error=0.4052,\tbest lgbm's error=0.3427\n",
            "[flaml.automl: 05-01 16:27:59] {993} INFO - iteration 34, current learner rf\n",
            "[flaml.automl: 05-01 16:27:59] {1141} INFO -  at 32.6s,\tbest rf's error=0.4052,\tbest lgbm's error=0.3427\n",
            "[flaml.automl: 05-01 16:27:59] {993} INFO - iteration 35, current learner rf\n",
            "[flaml.automl: 05-01 16:28:00] {1141} INFO -  at 32.8s,\tbest rf's error=0.4012,\tbest lgbm's error=0.3427\n",
            "[flaml.automl: 05-01 16:28:00] {993} INFO - iteration 36, current learner xgboost\n",
            "[flaml.automl: 05-01 16:28:00] {1141} INFO -  at 32.9s,\tbest xgboost's error=0.3746,\tbest lgbm's error=0.3427\n",
            "[flaml.automl: 05-01 16:28:00] {993} INFO - iteration 37, current learner xgboost\n",
            "[flaml.automl: 05-01 16:28:00] {1141} INFO -  at 32.9s,\tbest xgboost's error=0.3689,\tbest lgbm's error=0.3427\n",
            "[flaml.automl: 05-01 16:28:00] {993} INFO - iteration 38, current learner xgboost\n",
            "[flaml.automl: 05-01 16:28:00] {1141} INFO -  at 33.0s,\tbest xgboost's error=0.3689,\tbest lgbm's error=0.3427\n",
            "[flaml.automl: 05-01 16:28:00] {993} INFO - iteration 39, current learner xgboost\n",
            "[flaml.automl: 05-01 16:28:00] {1141} INFO -  at 33.1s,\tbest xgboost's error=0.3617,\tbest lgbm's error=0.3427\n",
            "[flaml.automl: 05-01 16:28:00] {993} INFO - iteration 40, current learner xgboost\n",
            "[flaml.automl: 05-01 16:28:00] {1141} INFO -  at 33.2s,\tbest xgboost's error=0.3610,\tbest lgbm's error=0.3427\n",
            "[flaml.automl: 05-01 16:28:00] {993} INFO - iteration 41, current learner xgboost\n",
            "[flaml.automl: 05-01 16:28:00] {1141} INFO -  at 33.3s,\tbest xgboost's error=0.3610,\tbest lgbm's error=0.3427\n",
            "[flaml.automl: 05-01 16:28:00] {993} INFO - iteration 42, current learner RGF\n",
            "[flaml.automl: 05-01 16:28:01] {1141} INFO -  at 34.5s,\tbest RGF's error=0.3762,\tbest lgbm's error=0.3427\n",
            "[flaml.automl: 05-01 16:28:01] {993} INFO - iteration 43, current learner xgboost\n",
            "[flaml.automl: 05-01 16:28:01] {1141} INFO -  at 34.6s,\tbest xgboost's error=0.3610,\tbest lgbm's error=0.3427\n",
            "[flaml.automl: 05-01 16:28:01] {993} INFO - iteration 44, current learner xgboost\n",
            "[flaml.automl: 05-01 16:28:01] {1141} INFO -  at 34.7s,\tbest xgboost's error=0.3595,\tbest lgbm's error=0.3427\n",
            "[flaml.automl: 05-01 16:28:01] {993} INFO - iteration 45, current learner xgboost\n",
            "[flaml.automl: 05-01 16:28:02] {1141} INFO -  at 34.8s,\tbest xgboost's error=0.3595,\tbest lgbm's error=0.3427\n",
            "[flaml.automl: 05-01 16:28:02] {993} INFO - iteration 46, current learner lgbm\n",
            "[flaml.automl: 05-01 16:28:05] {1141} INFO -  at 37.8s,\tbest lgbm's error=0.3427,\tbest lgbm's error=0.3427\n",
            "[flaml.automl: 05-01 16:28:05] {993} INFO - iteration 47, current learner xgboost\n",
            "[flaml.automl: 05-01 16:28:05] {1141} INFO -  at 38.0s,\tbest xgboost's error=0.3590,\tbest lgbm's error=0.3427\n",
            "[flaml.automl: 05-01 16:28:05] {993} INFO - iteration 48, current learner lgbm\n",
            "[flaml.automl: 05-01 16:28:13] {1141} INFO -  at 45.9s,\tbest lgbm's error=0.3427,\tbest lgbm's error=0.3427\n",
            "[flaml.automl: 05-01 16:28:13] {993} INFO - iteration 49, current learner rf\n",
            "[flaml.automl: 05-01 16:28:13] {1141} INFO -  at 46.1s,\tbest rf's error=0.3926,\tbest lgbm's error=0.3427\n",
            "[flaml.automl: 05-01 16:28:13] {993} INFO - iteration 50, current learner xgboost\n",
            "[flaml.automl: 05-01 16:28:13] {1141} INFO -  at 46.3s,\tbest xgboost's error=0.3590,\tbest lgbm's error=0.3427\n",
            "[flaml.automl: 05-01 16:28:13] {993} INFO - iteration 51, current learner rf\n",
            "[flaml.automl: 05-01 16:28:13] {1141} INFO -  at 46.5s,\tbest rf's error=0.3926,\tbest lgbm's error=0.3427\n",
            "[flaml.automl: 05-01 16:28:13] {993} INFO - iteration 52, current learner rf\n",
            "[flaml.automl: 05-01 16:28:13] {1141} INFO -  at 46.7s,\tbest rf's error=0.3926,\tbest lgbm's error=0.3427\n",
            "[flaml.automl: 05-01 16:28:13] {993} INFO - iteration 53, current learner lgbm\n",
            "[flaml.automl: 05-01 16:28:15] {1141} INFO -  at 48.5s,\tbest lgbm's error=0.3427,\tbest lgbm's error=0.3427\n",
            "[flaml.automl: 05-01 16:28:15] {993} INFO - iteration 54, current learner RGF\n",
            "[flaml.automl: 05-01 16:28:16] {1141} INFO -  at 49.6s,\tbest RGF's error=0.3762,\tbest lgbm's error=0.3427\n",
            "[flaml.automl: 05-01 16:28:16] {993} INFO - iteration 55, current learner rf\n",
            "[flaml.automl: 05-01 16:28:17] {1141} INFO -  at 49.8s,\tbest rf's error=0.3926,\tbest lgbm's error=0.3427\n",
            "[flaml.automl: 05-01 16:28:17] {993} INFO - iteration 56, current learner lgbm\n",
            "[flaml.automl: 05-01 16:28:19] {1141} INFO -  at 52.4s,\tbest lgbm's error=0.3427,\tbest lgbm's error=0.3427\n",
            "[flaml.automl: 05-01 16:28:23] {1164} INFO - retrain lgbm for 3.4s\n",
            "[flaml.automl: 05-01 16:28:23] {993} INFO - iteration 57, current learner rf\n",
            "[flaml.automl: 05-01 16:28:23] {1141} INFO -  at 56.0s,\tbest rf's error=0.3926,\tbest lgbm's error=0.3427\n",
            "[flaml.automl: 05-01 16:28:26] {1164} INFO - retrain rf for 3.1s\n",
            "[flaml.automl: 05-01 16:28:26] {993} INFO - iteration 58, current learner rf\n",
            "[flaml.automl: 05-01 16:28:26] {1141} INFO -  at 59.2s,\tbest rf's error=0.3926,\tbest lgbm's error=0.3427\n",
            "[flaml.automl: 05-01 16:28:27] {1164} INFO - retrain rf for 1.0s\n",
            "[flaml.automl: 05-01 16:28:27] {1187} INFO - selected model: LGBMClassifier(colsample_bytree=0.5793842857429541,\n",
            "               learning_rate=0.10431691413559704, max_bin=31,\n",
            "               min_child_samples=24, n_estimators=63, num_leaves=69,\n",
            "               objective='binary', reg_alpha=0.04072860923394475,\n",
            "               reg_lambda=1.6480344418782087, subsample=0.8895588746662894)\n",
            "[flaml.automl: 05-01 16:28:27] {944} INFO - fit succeeded\n"
          ],
          "name": "stderr"
        }
      ]
    },
    {
      "cell_type": "markdown",
      "metadata": {
        "id": "P24JgYgmy6WO"
      },
      "source": [
        "## 4. Comparison with alternatives\n",
        "\n",
        "### FLAML's accuracy"
      ]
    },
    {
      "cell_type": "code",
      "metadata": {
        "id": "U7oWFc66y6WO",
        "outputId": "f656254a-9b82-4b34-86ac-13e3369bf6a1"
      },
      "source": [
        "print('flaml accuracy', '=', 1 - sklearn_metric_loss_score('accuracy', y_pred, y_test))"
      ],
      "execution_count": null,
      "outputs": [
        {
          "output_type": "stream",
          "text": [
            "flaml accuracy = 0.6720406982780357\n"
          ],
          "name": "stdout"
        }
      ]
    },
    {
      "cell_type": "markdown",
      "metadata": {
        "id": "C8JVF9yKy6WP"
      },
      "source": [
        "### Default LightGBM"
      ]
    },
    {
      "cell_type": "code",
      "metadata": {
        "id": "wLhx1iOPy6WP"
      },
      "source": [
        "from lightgbm import LGBMClassifier\n",
        "lgbm = LGBMClassifier()"
      ],
      "execution_count": null,
      "outputs": []
    },
    {
      "cell_type": "code",
      "metadata": {
        "id": "GUy1tBA4y6WP",
        "outputId": "0f334630-fa02-4174-d509-f58cd5094e0c"
      },
      "source": [
        "lgbm.fit(X_train, y_train)"
      ],
      "execution_count": null,
      "outputs": [
        {
          "output_type": "execute_result",
          "data": {
            "text/plain": [
              "LGBMClassifier()"
            ]
          },
          "metadata": {
            "tags": []
          },
          "execution_count": 17
        }
      ]
    },
    {
      "cell_type": "code",
      "metadata": {
        "id": "TXBW7rQFy6WP",
        "outputId": "e94b83e7-a757-4dca-8e9c-ab4b8ce7eb86"
      },
      "source": [
        "y_pred = lgbm.predict(X_test)\n",
        "from flaml.ml import sklearn_metric_loss_score\n",
        "print('default lgbm accuracy', '=', 1 - sklearn_metric_loss_score('accuracy', y_pred, y_test))"
      ],
      "execution_count": null,
      "outputs": [
        {
          "output_type": "stream",
          "text": [
            "default lgbm accuracy = 0.6602346380315323\n"
          ],
          "name": "stdout"
        }
      ]
    },
    {
      "cell_type": "markdown",
      "metadata": {
        "id": "UFLuuiJAy6WQ"
      },
      "source": [
        "### Default XGBoost"
      ]
    },
    {
      "cell_type": "code",
      "metadata": {
        "id": "turKF0mSy6WQ"
      },
      "source": [
        "from xgboost import XGBClassifier\n",
        "xgb = XGBClassifier()"
      ],
      "execution_count": null,
      "outputs": []
    },
    {
      "cell_type": "code",
      "metadata": {
        "id": "2CQ58PuKy6WQ",
        "outputId": "6bd8a7a1-0169-4004-d230-f52d14ee7022"
      },
      "source": [
        "xgb.fit(X_train, y_train)"
      ],
      "execution_count": null,
      "outputs": [
        {
          "output_type": "execute_result",
          "data": {
            "text/plain": [
              "XGBClassifier(base_score=0.5, booster='gbtree', colsample_bylevel=1,\n",
              "              colsample_bynode=1, colsample_bytree=1, gamma=0, gpu_id=-1,\n",
              "              importance_type='gain', interaction_constraints='',\n",
              "              learning_rate=0.300000012, max_delta_step=0, max_depth=6,\n",
              "              min_child_weight=1, missing=nan, monotone_constraints='()',\n",
              "              n_estimators=100, n_jobs=0, num_parallel_tree=1, random_state=0,\n",
              "              reg_alpha=0, reg_lambda=1, scale_pos_weight=1, subsample=1,\n",
              "              tree_method='exact', validate_parameters=1, verbosity=None)"
            ]
          },
          "metadata": {
            "tags": []
          },
          "execution_count": 20
        }
      ]
    },
    {
      "cell_type": "code",
      "metadata": {
        "id": "qOLAgEagy6WR",
        "outputId": "3d5ec046-c680-4dc3-af9d-35c5e2a81438"
      },
      "source": [
        "y_pred = xgb.predict(X_test)\n",
        "from flaml.ml import sklearn_metric_loss_score\n",
        "print('default xgboost accuracy', '=', 1 - sklearn_metric_loss_score('accuracy', y_pred, y_test))"
      ],
      "execution_count": null,
      "outputs": [
        {
          "output_type": "stream",
          "text": [
            "default xgboost accuracy = 0.6676060098186078\n"
          ],
          "name": "stdout"
        }
      ]
    }
  ]
}