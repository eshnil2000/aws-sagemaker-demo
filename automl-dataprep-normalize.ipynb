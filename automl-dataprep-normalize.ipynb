{
 "cells": [
  {
   "cell_type": "code",
   "execution_count": 1,
   "metadata": {},
   "outputs": [
    {
     "name": "stdout",
     "output_type": "stream",
     "text": [
      "Defaulting to user installation because normal site-packages is not writeable\n",
      "Requirement already satisfied: dataprep in /home/nick/.local/lib/python3.8/site-packages (0.3.0)\n",
      "Collecting flaml[notebook]\n",
      "  Using cached FLAML-0.5.4-py3-none-any.whl (165 kB)\n",
      "Collecting xlrd\n",
      "  Using cached xlrd-2.0.1-py2.py3-none-any.whl (96 kB)\n",
      "Requirement already satisfied: openpyxl in /home/nick/.local/lib/python3.8/site-packages (3.0.7)\n",
      "Requirement already satisfied: aiohttp<4.0,>=3.6 in /home/nick/.local/lib/python3.8/site-packages (from dataprep) (3.7.4.post0)\n",
      "Requirement already satisfied: jsonpath-ng<2.0,>=1.5 in /home/nick/.local/lib/python3.8/site-packages (from dataprep) (1.5.2)\n",
      "Requirement already satisfied: pydantic<2.0,>=1.6 in /home/nick/.local/lib/python3.8/site-packages (from dataprep) (1.8.1)\n",
      "Requirement already satisfied: numpy<2,>=1 in /home/nick/.local/lib/python3.8/site-packages (from dataprep) (1.20.3)\n",
      "Requirement already satisfied: usaddress<0.6.0,>=0.5.10 in /home/nick/.local/lib/python3.8/site-packages (from dataprep) (0.5.10)\n",
      "Requirement already satisfied: dask[array,dataframe,delayed]<3.0,>=2.25 in /home/nick/.local/lib/python3.8/site-packages (from dataprep) (2.30.0)\n",
      "Requirement already satisfied: bottleneck<2.0,>=1.3 in /home/nick/.local/lib/python3.8/site-packages (from dataprep) (1.3.2)\n",
      "Requirement already satisfied: bokeh<3,>=2 in /home/nick/.local/lib/python3.8/site-packages (from dataprep) (2.3.2)\n",
      "Requirement already satisfied: wordcloud<2.0,>=1.8 in /home/nick/.local/lib/python3.8/site-packages (from dataprep) (1.8.1)\n",
      "Requirement already satisfied: jinja2<3.0,>=2.11 in /home/nick/.local/lib/python3.8/site-packages (from dataprep) (2.11.3)\n",
      "Requirement already satisfied: metaphone<0.7,>=0.6 in /home/nick/.local/lib/python3.8/site-packages (from dataprep) (0.6)\n",
      "Requirement already satisfied: python-Levenshtein<0.13.0,>=0.12.2 in /home/nick/.local/lib/python3.8/site-packages (from dataprep) (0.12.2)\n",
      "Requirement already satisfied: nltk<4.0,>=3.5 in /home/nick/.local/lib/python3.8/site-packages (from dataprep) (3.5)\n",
      "Requirement already satisfied: regex<2021.0.0,>=2020.10.15 in /home/nick/.local/lib/python3.8/site-packages (from dataprep) (2020.11.13)\n",
      "Requirement already satisfied: pandas<2.0,>=1.1 in /home/nick/.local/lib/python3.8/site-packages (from dataprep) (1.2.3)\n",
      "Requirement already satisfied: tqdm<5.0,>=4.48 in /home/nick/.local/lib/python3.8/site-packages (from dataprep) (4.60.0)\n",
      "Requirement already satisfied: scipy<2,>=1 in /home/nick/.local/lib/python3.8/site-packages (from dataprep) (1.6.1)\n",
      "Requirement already satisfied: ipywidgets<8.0,>=7.5 in /home/nick/.local/lib/python3.8/site-packages (from dataprep) (7.6.3)\n",
      "Requirement already satisfied: typing-extensions>=3.6.5 in /home/nick/.local/lib/python3.8/site-packages (from aiohttp<4.0,>=3.6->dataprep) (3.7.4.3)\n",
      "Requirement already satisfied: yarl<2.0,>=1.0 in /home/nick/.local/lib/python3.8/site-packages (from aiohttp<4.0,>=3.6->dataprep) (1.6.3)\n",
      "Requirement already satisfied: multidict<7.0,>=4.5 in /home/nick/.local/lib/python3.8/site-packages (from aiohttp<4.0,>=3.6->dataprep) (5.1.0)\n",
      "Requirement already satisfied: chardet<5.0,>=2.0 in /home/nick/.local/lib/python3.8/site-packages (from aiohttp<4.0,>=3.6->dataprep) (4.0.0)\n",
      "Requirement already satisfied: attrs>=17.3.0 in /home/nick/.local/lib/python3.8/site-packages (from aiohttp<4.0,>=3.6->dataprep) (20.3.0)\n",
      "Requirement already satisfied: async-timeout<4.0,>=3.0 in /home/nick/.local/lib/python3.8/site-packages (from aiohttp<4.0,>=3.6->dataprep) (3.0.1)\n",
      "Requirement already satisfied: tornado>=5.1 in /home/nick/.local/lib/python3.8/site-packages (from bokeh<3,>=2->dataprep) (6.1)\n",
      "Requirement already satisfied: python-dateutil>=2.1 in /home/nick/.local/lib/python3.8/site-packages (from bokeh<3,>=2->dataprep) (2.8.1)\n",
      "Requirement already satisfied: pillow>=7.1.0 in /home/nick/.local/lib/python3.8/site-packages (from bokeh<3,>=2->dataprep) (8.3.0)\n",
      "Requirement already satisfied: packaging>=16.8 in /home/nick/.local/lib/python3.8/site-packages (from bokeh<3,>=2->dataprep) (20.9)\n",
      "Requirement already satisfied: PyYAML>=3.10 in /home/nick/.local/lib/python3.8/site-packages (from bokeh<3,>=2->dataprep) (5.3.1)\n",
      "Requirement already satisfied: partd>=0.3.10 in /home/nick/.local/lib/python3.8/site-packages (from dask[array,dataframe,delayed]<3.0,>=2.25->dataprep) (1.2.0)\n",
      "Requirement already satisfied: fsspec>=0.6.0 in /home/nick/.local/lib/python3.8/site-packages (from dask[array,dataframe,delayed]<3.0,>=2.25->dataprep) (2021.6.1)\n",
      "Requirement already satisfied: toolz>=0.8.2 in /home/nick/.local/lib/python3.8/site-packages (from dask[array,dataframe,delayed]<3.0,>=2.25->dataprep) (0.11.1)\n",
      "Requirement already satisfied: cloudpickle>=0.2.2 in /home/nick/.local/lib/python3.8/site-packages (from dask[array,dataframe,delayed]<3.0,>=2.25->dataprep) (1.6.0)\n",
      "Requirement already satisfied: widgetsnbextension~=3.5.0 in /home/nick/.local/lib/python3.8/site-packages (from ipywidgets<8.0,>=7.5->dataprep) (3.5.1)\n",
      "Requirement already satisfied: nbformat>=4.2.0 in /home/nick/.local/lib/python3.8/site-packages (from ipywidgets<8.0,>=7.5->dataprep) (5.1.2)\n",
      "Requirement already satisfied: traitlets>=4.3.1 in /home/nick/.local/lib/python3.8/site-packages (from ipywidgets<8.0,>=7.5->dataprep) (5.0.5)\n",
      "Requirement already satisfied: ipython>=4.0.0 in /home/nick/.local/lib/python3.8/site-packages (from ipywidgets<8.0,>=7.5->dataprep) (7.21.0)\n",
      "Requirement already satisfied: ipykernel>=4.5.1 in /home/nick/.local/lib/python3.8/site-packages (from ipywidgets<8.0,>=7.5->dataprep) (5.5.0)\n",
      "Requirement already satisfied: jupyterlab-widgets>=1.0.0 in /home/nick/.local/lib/python3.8/site-packages (from ipywidgets<8.0,>=7.5->dataprep) (1.0.0)\n",
      "Requirement already satisfied: jupyter-client in /home/nick/.local/lib/python3.8/site-packages (from ipykernel>=4.5.1->ipywidgets<8.0,>=7.5->dataprep) (6.1.11)\n",
      "Requirement already satisfied: pickleshare in /home/nick/.local/lib/python3.8/site-packages (from ipython>=4.0.0->ipywidgets<8.0,>=7.5->dataprep) (0.7.5)\n",
      "Requirement already satisfied: pygments in /home/nick/.local/lib/python3.8/site-packages (from ipython>=4.0.0->ipywidgets<8.0,>=7.5->dataprep) (2.8.1)\n",
      "Requirement already satisfied: backcall in /home/nick/.local/lib/python3.8/site-packages (from ipython>=4.0.0->ipywidgets<8.0,>=7.5->dataprep) (0.2.0)\n",
      "Requirement already satisfied: prompt-toolkit!=3.0.0,!=3.0.1,<3.1.0,>=2.0.0 in /home/nick/.local/lib/python3.8/site-packages (from ipython>=4.0.0->ipywidgets<8.0,>=7.5->dataprep) (3.0.18)\n",
      "Requirement already satisfied: jedi>=0.16 in /home/nick/.local/lib/python3.8/site-packages (from ipython>=4.0.0->ipywidgets<8.0,>=7.5->dataprep) (0.18.0)\n",
      "Requirement already satisfied: setuptools>=18.5 in /usr/lib/python3/dist-packages (from ipython>=4.0.0->ipywidgets<8.0,>=7.5->dataprep) (45.2.0)\n",
      "Requirement already satisfied: decorator in /home/nick/.local/lib/python3.8/site-packages (from ipython>=4.0.0->ipywidgets<8.0,>=7.5->dataprep) (4.4.2)\n",
      "Requirement already satisfied: pexpect>4.3 in /home/nick/.local/lib/python3.8/site-packages (from ipython>=4.0.0->ipywidgets<8.0,>=7.5->dataprep) (4.8.0)\n",
      "Requirement already satisfied: parso<0.9.0,>=0.8.0 in /home/nick/.local/lib/python3.8/site-packages (from jedi>=0.16->ipython>=4.0.0->ipywidgets<8.0,>=7.5->dataprep) (0.8.1)\n",
      "Requirement already satisfied: MarkupSafe>=0.23 in /usr/lib/python3/dist-packages (from jinja2<3.0,>=2.11->dataprep) (1.1.0)\n",
      "Requirement already satisfied: ply in /home/nick/.local/lib/python3.8/site-packages (from jsonpath-ng<2.0,>=1.5->dataprep) (3.11)\n",
      "Requirement already satisfied: six in /home/nick/.local/lib/python3.8/site-packages (from jsonpath-ng<2.0,>=1.5->dataprep) (1.15.0)\n",
      "Requirement already satisfied: jsonschema!=2.5.0,>=2.4 in /usr/lib/python3/dist-packages (from nbformat>=4.2.0->ipywidgets<8.0,>=7.5->dataprep) (3.2.0)\n",
      "Requirement already satisfied: jupyter-core in /home/nick/.local/lib/python3.8/site-packages (from nbformat>=4.2.0->ipywidgets<8.0,>=7.5->dataprep) (4.7.1)\n",
      "Requirement already satisfied: ipython-genutils in /home/nick/.local/lib/python3.8/site-packages (from nbformat>=4.2.0->ipywidgets<8.0,>=7.5->dataprep) (0.2.0)\n",
      "Requirement already satisfied: click in /home/nick/.local/lib/python3.8/site-packages (from nltk<4.0,>=3.5->dataprep) (7.1.2)\n",
      "Requirement already satisfied: joblib in /home/nick/.local/lib/python3.8/site-packages (from nltk<4.0,>=3.5->dataprep) (1.0.1)\n",
      "Requirement already satisfied: pyparsing>=2.0.2 in /home/nick/.local/lib/python3.8/site-packages (from packaging>=16.8->bokeh<3,>=2->dataprep) (2.4.7)\n"
     ]
    },
    {
     "name": "stdout",
     "output_type": "stream",
     "text": [
      "Requirement already satisfied: pytz>=2017.3 in /home/nick/.local/lib/python3.8/site-packages (from pandas<2.0,>=1.1->dataprep) (2021.1)\n",
      "Requirement already satisfied: locket in /home/nick/.local/lib/python3.8/site-packages (from partd>=0.3.10->dask[array,dataframe,delayed]<3.0,>=2.25->dataprep) (0.2.1)\n",
      "Requirement already satisfied: ptyprocess>=0.5 in /home/nick/.local/lib/python3.8/site-packages (from pexpect>4.3->ipython>=4.0.0->ipywidgets<8.0,>=7.5->dataprep) (0.7.0)\n",
      "Requirement already satisfied: wcwidth in /home/nick/.local/lib/python3.8/site-packages (from prompt-toolkit!=3.0.0,!=3.0.1,<3.1.0,>=2.0.0->ipython>=4.0.0->ipywidgets<8.0,>=7.5->dataprep) (0.2.5)\n",
      "Requirement already satisfied: probableparsing in /home/nick/.local/lib/python3.8/site-packages (from usaddress<0.6.0,>=0.5.10->dataprep) (0.0.1)\n",
      "Requirement already satisfied: python-crfsuite>=0.7 in /home/nick/.local/lib/python3.8/site-packages (from usaddress<0.6.0,>=0.5.10->dataprep) (0.9.7)\n",
      "Requirement already satisfied: future>=0.14 in /home/nick/.local/lib/python3.8/site-packages (from usaddress<0.6.0,>=0.5.10->dataprep) (0.18.2)\n",
      "Requirement already satisfied: notebook>=4.4.1 in /home/nick/.local/lib/python3.8/site-packages (from widgetsnbextension~=3.5.0->ipywidgets<8.0,>=7.5->dataprep) (6.2.0)\n",
      "Requirement already satisfied: pyzmq>=17 in /home/nick/.local/lib/python3.8/site-packages (from notebook>=4.4.1->widgetsnbextension~=3.5.0->ipywidgets<8.0,>=7.5->dataprep) (22.0.3)\n",
      "Requirement already satisfied: prometheus-client in /home/nick/.local/lib/python3.8/site-packages (from notebook>=4.4.1->widgetsnbextension~=3.5.0->ipywidgets<8.0,>=7.5->dataprep) (0.9.0)\n",
      "Requirement already satisfied: terminado>=0.8.3 in /home/nick/.local/lib/python3.8/site-packages (from notebook>=4.4.1->widgetsnbextension~=3.5.0->ipywidgets<8.0,>=7.5->dataprep) (0.9.2)\n",
      "Requirement already satisfied: nbconvert in /home/nick/.local/lib/python3.8/site-packages (from notebook>=4.4.1->widgetsnbextension~=3.5.0->ipywidgets<8.0,>=7.5->dataprep) (6.0.7)\n",
      "Requirement already satisfied: Send2Trash>=1.5.0 in /home/nick/.local/lib/python3.8/site-packages (from notebook>=4.4.1->widgetsnbextension~=3.5.0->ipywidgets<8.0,>=7.5->dataprep) (1.5.0)\n",
      "Requirement already satisfied: argon2-cffi in /home/nick/.local/lib/python3.8/site-packages (from notebook>=4.4.1->widgetsnbextension~=3.5.0->ipywidgets<8.0,>=7.5->dataprep) (20.1.0)\n",
      "Requirement already satisfied: matplotlib in /home/nick/.local/lib/python3.8/site-packages (from wordcloud<2.0,>=1.8->dataprep) (3.3.4)\n",
      "Requirement already satisfied: idna>=2.0 in /home/nick/.local/lib/python3.8/site-packages (from yarl<2.0,>=1.0->aiohttp<4.0,>=3.6->dataprep) (2.10)\n",
      "Requirement already satisfied: et-xmlfile in /home/nick/.local/lib/python3.8/site-packages (from openpyxl) (1.1.0)\n",
      "Requirement already satisfied: cffi>=1.0.0 in /home/nick/.local/lib/python3.8/site-packages (from argon2-cffi->notebook>=4.4.1->widgetsnbextension~=3.5.0->ipywidgets<8.0,>=7.5->dataprep) (1.14.5)\n",
      "Requirement already satisfied: pycparser in /home/nick/.local/lib/python3.8/site-packages (from cffi>=1.0.0->argon2-cffi->notebook>=4.4.1->widgetsnbextension~=3.5.0->ipywidgets<8.0,>=7.5->dataprep) (2.20)\n",
      "Requirement already satisfied: scikit-learn>=0.23.2 in /home/nick/.local/lib/python3.8/site-packages (from flaml[notebook]) (0.24.1)\n",
      "Collecting catboost>=0.23\n",
      "  Using cached catboost-0.26-cp38-none-manylinux1_x86_64.whl (69.2 MB)\n",
      "Collecting xgboost>=0.90\n",
      "  Using cached xgboost-1.4.2-py3-none-manylinux2010_x86_64.whl (166.7 MB)\n",
      "Collecting lightgbm>=2.3.1\n",
      "  Using cached lightgbm-3.2.1-py3-none-manylinux1_x86_64.whl (2.0 MB)\n",
      "Collecting matplotlib\n",
      "  Using cached matplotlib-3.2.0-cp38-cp38-manylinux1_x86_64.whl (12.4 MB)\n",
      "Collecting rgf-python\n",
      "  Using cached rgf_python-3.10.0-py3-none-manylinux1_x86_64.whl (757 kB)\n",
      "Collecting vowpalwabbit\n",
      "  Using cached vowpalwabbit-8.10.2-cp38-cp38-manylinux2010_x86_64.whl (2.6 MB)\n",
      "Requirement already satisfied: jupyter in /home/nick/.local/lib/python3.8/site-packages (from flaml[notebook]) (1.0.0)\n",
      "Collecting openml==0.10.2\n",
      "  Using cached openml-0.10.2.tar.gz (158 kB)\n",
      "Requirement already satisfied: kiwisolver>=1.0.1 in /home/nick/.local/lib/python3.8/site-packages (from matplotlib->wordcloud<2.0,>=1.8->dataprep) (1.3.1)\n",
      "Requirement already satisfied: cycler>=0.10 in /home/nick/.local/lib/python3.8/site-packages (from matplotlib->wordcloud<2.0,>=1.8->dataprep) (0.10.0)\n",
      "Collecting liac-arff>=2.4.0\n",
      "  Using cached liac-arff-2.5.0.tar.gz (13 kB)\n",
      "Requirement already satisfied: requests in /home/nick/.local/lib/python3.8/site-packages (from openml==0.10.2->flaml[notebook]) (2.25.1)\n",
      "Requirement already satisfied: xmltodict in /home/nick/.local/lib/python3.8/site-packages (from openml==0.10.2->flaml[notebook]) (0.12.0)\n",
      "Collecting plotly\n",
      "  Using cached plotly-5.1.0-py2.py3-none-any.whl (20.6 MB)\n",
      "Collecting graphviz\n",
      "  Using cached graphviz-0.16-py2.py3-none-any.whl (19 kB)\n",
      "Requirement already satisfied: wheel in /usr/lib/python3/dist-packages (from lightgbm>=2.3.1->flaml[notebook]) (0.34.2)\n",
      "Requirement already satisfied: threadpoolctl>=2.0.0 in /home/nick/.local/lib/python3.8/site-packages (from scikit-learn>=0.23.2->flaml[notebook]) (2.1.0)\n",
      "Requirement already satisfied: qtconsole in /home/nick/.local/lib/python3.8/site-packages (from jupyter->flaml[notebook]) (5.0.2)\n",
      "Requirement already satisfied: jupyter-console in /home/nick/.local/lib/python3.8/site-packages (from jupyter->flaml[notebook]) (6.2.0)\n",
      "Requirement already satisfied: jupyterlab-pygments in /home/nick/.local/lib/python3.8/site-packages (from nbconvert->notebook>=4.4.1->widgetsnbextension~=3.5.0->ipywidgets<8.0,>=7.5->dataprep) (0.1.2)\n",
      "Requirement already satisfied: testpath in /home/nick/.local/lib/python3.8/site-packages (from nbconvert->notebook>=4.4.1->widgetsnbextension~=3.5.0->ipywidgets<8.0,>=7.5->dataprep) (0.4.4)\n",
      "Requirement already satisfied: entrypoints>=0.2.2 in /usr/lib/python3/dist-packages (from nbconvert->notebook>=4.4.1->widgetsnbextension~=3.5.0->ipywidgets<8.0,>=7.5->dataprep) (0.3)\n",
      "Requirement already satisfied: nbclient<0.6.0,>=0.5.0 in /home/nick/.local/lib/python3.8/site-packages (from nbconvert->notebook>=4.4.1->widgetsnbextension~=3.5.0->ipywidgets<8.0,>=7.5->dataprep) (0.5.3)\n",
      "Requirement already satisfied: bleach in /home/nick/.local/lib/python3.8/site-packages (from nbconvert->notebook>=4.4.1->widgetsnbextension~=3.5.0->ipywidgets<8.0,>=7.5->dataprep) (3.3.0)\n",
      "Requirement already satisfied: mistune<2,>=0.8.1 in /home/nick/.local/lib/python3.8/site-packages (from nbconvert->notebook>=4.4.1->widgetsnbextension~=3.5.0->ipywidgets<8.0,>=7.5->dataprep) (0.8.4)\n",
      "Requirement already satisfied: pandocfilters>=1.4.1 in /home/nick/.local/lib/python3.8/site-packages (from nbconvert->notebook>=4.4.1->widgetsnbextension~=3.5.0->ipywidgets<8.0,>=7.5->dataprep) (1.4.3)\n",
      "Requirement already satisfied: defusedxml in /home/nick/.local/lib/python3.8/site-packages (from nbconvert->notebook>=4.4.1->widgetsnbextension~=3.5.0->ipywidgets<8.0,>=7.5->dataprep) (0.7.1)\n",
      "Requirement already satisfied: async-generator in /home/nick/.local/lib/python3.8/site-packages (from nbclient<0.6.0,>=0.5.0->nbconvert->notebook>=4.4.1->widgetsnbextension~=3.5.0->ipywidgets<8.0,>=7.5->dataprep) (1.10)\n",
      "Requirement already satisfied: nest-asyncio in /home/nick/.local/lib/python3.8/site-packages (from nbclient<0.6.0,>=0.5.0->nbconvert->notebook>=4.4.1->widgetsnbextension~=3.5.0->ipywidgets<8.0,>=7.5->dataprep) (1.5.1)\n",
      "Requirement already satisfied: webencodings in /home/nick/.local/lib/python3.8/site-packages (from bleach->nbconvert->notebook>=4.4.1->widgetsnbextension~=3.5.0->ipywidgets<8.0,>=7.5->dataprep) (0.5.1)\n",
      "Collecting tenacity>=6.2.0\n",
      "  Using cached tenacity-7.0.0-py2.py3-none-any.whl (23 kB)\n",
      "Requirement already satisfied: qtpy in /home/nick/.local/lib/python3.8/site-packages (from qtconsole->jupyter->flaml[notebook]) (1.9.0)\n",
      "Requirement already satisfied: urllib3<1.27,>=1.21.1 in /home/nick/.local/lib/python3.8/site-packages (from requests->openml==0.10.2->flaml[notebook]) (1.26.4)\n",
      "Requirement already satisfied: certifi>=2017.4.17 in /home/nick/.local/lib/python3.8/site-packages (from requests->openml==0.10.2->flaml[notebook]) (2020.12.5)\n",
      "Building wheels for collected packages: openml, liac-arff\n"
     ]
    },
    {
     "name": "stdout",
     "output_type": "stream",
     "text": [
      "  Building wheel for openml (setup.py) ... \u001b[?25ldone\n",
      "\u001b[?25h  Created wheel for openml: filename=openml-0.10.2-py3-none-any.whl size=190324 sha256=7e8745abc195af91dd7932cedf6af7e3cc4859fa58ed415823005f04c023651d\n",
      "  Stored in directory: /home/nick/.cache/pip/wheels/e9/c7/af/50e65ac06e82af181b9ce080c156cd4c76fa2ea8904f28c7cd\n",
      "  Building wheel for liac-arff (setup.py) ... \u001b[?25ldone\n",
      "\u001b[?25h  Created wheel for liac-arff: filename=liac_arff-2.5.0-py3-none-any.whl size=11731 sha256=90f8e734131142d72e021df5d33339b4d32515f852292421d6f545b8ee142464\n",
      "  Stored in directory: /home/nick/.cache/pip/wheels/a2/de/68/bf3972de3ecb31e32bef59a7f4c75f0687a3674c476b347c14\n",
      "Successfully built openml liac-arff\n",
      "Installing collected packages: tenacity, plotly, matplotlib, graphviz, xgboost, lightgbm, liac-arff, catboost, vowpalwabbit, rgf-python, openml, flaml, xlrd\n",
      "  Attempting uninstall: matplotlib\n",
      "    Found existing installation: matplotlib 3.3.4\n",
      "    Uninstalling matplotlib-3.3.4:\n",
      "      Successfully uninstalled matplotlib-3.3.4\n",
      "Successfully installed catboost-0.26 flaml-0.5.4 graphviz-0.16 liac-arff-2.5.0 lightgbm-3.2.1 matplotlib-3.2.0 openml-0.10.2 plotly-5.1.0 rgf-python-3.10.0 tenacity-7.0.0 vowpalwabbit-8.10.2 xgboost-1.4.2 xlrd-2.0.1\n",
      "\u001b[33mWARNING: You are using pip version 21.1.2; however, version 21.1.3 is available.\n",
      "You should consider upgrading via the '/usr/bin/python3 -m pip install --upgrade pip' command.\u001b[0m\n"
     ]
    }
   ],
   "source": [
    "!pip install dataprep flaml[notebook] xlrd openpyxl\n",
    "import pandas as pd\n"
   ]
  },
  {
   "cell_type": "code",
   "execution_count": 31,
   "metadata": {},
   "outputs": [],
   "source": [
    "from flaml import AutoML"
   ]
  },
  {
   "cell_type": "code",
   "execution_count": 32,
   "metadata": {},
   "outputs": [
    {
     "data": {
      "text/plain": [
       "['result_t2_large',\n",
       " 'result_t2_xlarge',\n",
       " 'result_m5_xlarge',\n",
       " 'result_m5_2xlarge',\n",
       " 'result_m5_4xlarge',\n",
       " 'result_m4_xlarge']"
      ]
     },
     "execution_count": 32,
     "metadata": {},
     "output_type": "execute_result"
    }
   ],
   "source": [
    "workbook = pd.ExcelFile('locust_test_result.xlsx',engine='openpyxl')\n",
    "sheets= workbook.sheet_names\n",
    "sheets"
   ]
  },
  {
   "cell_type": "code",
   "execution_count": 33,
   "metadata": {},
   "outputs": [
    {
     "data": {
      "text/plain": [
       "Index([                       'user',                  ' blocksize',\n",
       "                         'Timestamp',                  'User Count',\n",
       "                              'Type',                        'Name',\n",
       "                        'Requests/s',                  'Failures/s',\n",
       "                                 0.5,                          0.66,\n",
       "                                0.75,                           0.8,\n",
       "                                 0.9,                          0.95,\n",
       "                                0.98,                          0.99,\n",
       "                               0.999,                             1,\n",
       "               'Total Request Count',         'Total Failure Count',\n",
       "        'Total Median Response Time',     'Total Min Response Time',\n",
       "           'Total Max Response Time',  'Total Average Content Size',\n",
       "                      'cpu_measured',                 ' thread_num',\n",
       "                      ' cpu_compute',                        0.9999,\n",
       "       'Total Average Response Time',            'result_m4_xlarge',\n",
       "                 'result_m5_2xlarge',           'result_m5_4xlarge',\n",
       "                  'result_m5_xlarge',             'result_t2_large',\n",
       "                  'result_t2_xlarge'],\n",
       "      dtype='object')"
      ]
     },
     "execution_count": 33,
     "metadata": {},
     "output_type": "execute_result"
    }
   ],
   "source": [
    "df = pd.concat([pd.read_excel(workbook, sheet_name=s).assign(instance_type=s) for s in sheets],ignore_index=True)\n",
    "first_column = df.pop('instance_type')\n",
    "one_hot=pd.get_dummies(first_column)\n",
    "df= df.join(one_hot)\n",
    "df.columns"
   ]
  },
  {
   "cell_type": "code",
   "execution_count": 34,
   "metadata": {},
   "outputs": [
    {
     "data": {
      "text/plain": [
       "0        200000\n",
       "1       1000000\n",
       "2        600000\n",
       "3         50000\n",
       "4         10000\n",
       "         ...   \n",
       "2901    1000000\n",
       "2902    1000000\n",
       "2903     200000\n",
       "2904     100000\n",
       "2905      10000\n",
       "Name:  blocksize, Length: 2906, dtype: int64"
      ]
     },
     "execution_count": 34,
     "metadata": {},
     "output_type": "execute_result"
    }
   ],
   "source": [
    "row_filtered = df[df['user'] == 'user'].index\n",
    "col_filtered = df[pd.isna(df[0.5])].index\n",
    "df_clean=df.drop(row_filtered)\n",
    "df_clean=df_clean.drop(col_filtered).reset_index()\n",
    "df_clean[' blocksize']=(df_clean[' blocksize'].str.replace(r'mb', '000000'))\n",
    "df_clean[' blocksize']=(df_clean[' blocksize'].str.replace(r'kb', '000'))\n",
    "df_clean[' blocksize']=pd.to_numeric(df_clean[' blocksize'])\n",
    "#df_clean[' blocksize']=pd.to_numeric(df_clean[' blocksize'].str.replace(r'mb$', '000000'))\n",
    "\n",
    "\n",
    "df_clean=df_clean.sample(frac=1).reset_index(drop=True)\n",
    "df_clean[' blocksize']\n"
   ]
  },
  {
   "cell_type": "code",
   "execution_count": 22,
   "metadata": {
    "scrolled": false
   },
   "outputs": [
    {
     "data": {
      "application/vnd.jupyter.widget-view+json": {
       "model_id": "",
       "version_major": 2,
       "version_minor": 0
      },
      "text/plain": [
       "  0%|          | 0/4814 [00:00<?, ?it/s]"
      ]
     },
     "metadata": {},
     "output_type": "display_data"
    }
   ],
   "source": [
    "from dataprep.eda import create_report\n",
    "\n",
    "for col in ['cpu_measured', 'Total Average Response Time','Requests/s',0.999]:\n",
    "    df_clean[col] = pd.to_numeric(df_clean[col])\n",
    "    df_clean[col]= (df_clean[col]-df_clean[col].mean())/df_clean[col].std()\n",
    "\n",
    "report= create_report(df_clean)\n"
   ]
  },
  {
   "cell_type": "code",
   "execution_count": 23,
   "metadata": {},
   "outputs": [],
   "source": [
    "''' import AutoML class from flaml package '''\n",
    "import sys\n",
    "sys.path.append('/home/nick/pkb/lib/python3.8/site-packages/')\n",
    "from flaml import AutoML\n",
    "automl = AutoML()\n",
    "settings = {\n",
    "    \"time_budget\": 30,  # total running time in seconds\n",
    "    \"metric\": 'r2',  # primary metrics can be chosen from: ['accuracy','roc_auc','f1','log_loss','mae','mse','r2']\n",
    "    \"task\": 'regression',  # task type    \n",
    "    \"log_file_name\": 'bops_experiment.log',  # flaml log file\n",
    "}\n",
    "df_X=df_clean[['result_m5_2xlarge','result_m5_2xlarge','result_m5_xlarge','result_t2_xlarge','result_m4_xlarge','result_m5_4xlarge','result_t2_large','User Count',' blocksize','cpu_measured','Total Request Count']]\n",
    "df_X=df_X.to_numpy()\n",
    "df_Y=df_clean[['Total Average Response Time']].to_numpy()\n"
   ]
  },
  {
   "cell_type": "code",
   "execution_count": 24,
   "metadata": {},
   "outputs": [],
   "source": [
    "settings = {\n",
    "    \"time_budget\": 10,  # total running time in seconds\n",
    "    \"metric\": 'r2',  # primary metrics can be chosen from: ['accuracy','roc_auc','f1','log_loss','mae','mse','r2']\n",
    "    \"task\": 'regression',  # task type    \n",
    "    \"log_file_name\": 'bops_experiment.log',  # flaml log file\n",
    "}"
   ]
  },
  {
   "cell_type": "code",
   "execution_count": 25,
   "metadata": {},
   "outputs": [
    {
     "name": "stderr",
     "output_type": "stream",
     "text": [
      "[flaml.automl: 07-05 23:25:08] {908} INFO - Evaluation method: cv\n",
      "Evaluation method: cv\n",
      "[flaml.automl: 07-05 23:25:08] {617} INFO - Using RepeatedKFold\n",
      "Using RepeatedKFold\n",
      "[flaml.automl: 07-05 23:25:08] {929} INFO - Minimizing error metric: 1-r2\n",
      "Minimizing error metric: 1-r2\n",
      "[flaml.automl: 07-05 23:25:08] {948} INFO - List of ML learners in AutoML Run: ['lgbm', 'rf', 'catboost', 'xgboost', 'extra_tree']\n",
      "List of ML learners in AutoML Run: ['lgbm', 'rf', 'catboost', 'xgboost', 'extra_tree']\n",
      "[flaml.automl: 07-05 23:25:08] {1012} INFO - iteration 0, current learner lgbm\n",
      "iteration 0, current learner lgbm\n",
      "[flaml.automl: 07-05 23:25:08] {1159} INFO -  at 0.1s,\tbest lgbm's error=0.7843,\tbest lgbm's error=0.7843\n",
      " at 0.1s,\tbest lgbm's error=0.7843,\tbest lgbm's error=0.7843\n",
      "[flaml.automl: 07-05 23:25:08] {1012} INFO - iteration 1, current learner lgbm\n",
      "iteration 1, current learner lgbm\n",
      "[flaml.automl: 07-05 23:25:08] {1159} INFO -  at 0.2s,\tbest lgbm's error=0.7843,\tbest lgbm's error=0.7843\n",
      " at 0.2s,\tbest lgbm's error=0.7843,\tbest lgbm's error=0.7843\n",
      "[flaml.automl: 07-05 23:25:08] {1012} INFO - iteration 2, current learner lgbm\n",
      "iteration 2, current learner lgbm\n",
      "[flaml.automl: 07-05 23:25:08] {1159} INFO -  at 0.2s,\tbest lgbm's error=0.5340,\tbest lgbm's error=0.5340\n",
      " at 0.2s,\tbest lgbm's error=0.5340,\tbest lgbm's error=0.5340\n",
      "[flaml.automl: 07-05 23:25:08] {1012} INFO - iteration 3, current learner lgbm\n",
      "iteration 3, current learner lgbm\n",
      "[flaml.automl: 07-05 23:25:08] {1159} INFO -  at 0.3s,\tbest lgbm's error=0.4630,\tbest lgbm's error=0.4630\n",
      " at 0.3s,\tbest lgbm's error=0.4630,\tbest lgbm's error=0.4630\n",
      "[flaml.automl: 07-05 23:25:08] {1012} INFO - iteration 4, current learner lgbm\n",
      "iteration 4, current learner lgbm\n",
      "[flaml.automl: 07-05 23:25:09] {1159} INFO -  at 0.4s,\tbest lgbm's error=0.4630,\tbest lgbm's error=0.4630\n",
      " at 0.4s,\tbest lgbm's error=0.4630,\tbest lgbm's error=0.4630\n",
      "[flaml.automl: 07-05 23:25:09] {1012} INFO - iteration 5, current learner lgbm\n",
      "iteration 5, current learner lgbm\n",
      "[flaml.automl: 07-05 23:25:09] {1159} INFO -  at 0.5s,\tbest lgbm's error=0.4452,\tbest lgbm's error=0.4452\n",
      " at 0.5s,\tbest lgbm's error=0.4452,\tbest lgbm's error=0.4452\n",
      "[flaml.automl: 07-05 23:25:09] {1012} INFO - iteration 6, current learner lgbm\n",
      "iteration 6, current learner lgbm\n",
      "[flaml.automl: 07-05 23:25:09] {1159} INFO -  at 0.5s,\tbest lgbm's error=0.3827,\tbest lgbm's error=0.3827\n",
      " at 0.5s,\tbest lgbm's error=0.3827,\tbest lgbm's error=0.3827\n",
      "[flaml.automl: 07-05 23:25:09] {1012} INFO - iteration 7, current learner lgbm\n",
      "iteration 7, current learner lgbm\n",
      "[flaml.automl: 07-05 23:25:09] {1159} INFO -  at 0.6s,\tbest lgbm's error=0.3360,\tbest lgbm's error=0.3360\n",
      " at 0.6s,\tbest lgbm's error=0.3360,\tbest lgbm's error=0.3360\n",
      "[flaml.automl: 07-05 23:25:09] {1012} INFO - iteration 8, current learner lgbm\n",
      "iteration 8, current learner lgbm\n",
      "[flaml.automl: 07-05 23:25:09] {1159} INFO -  at 0.7s,\tbest lgbm's error=0.3245,\tbest lgbm's error=0.3245\n",
      " at 0.7s,\tbest lgbm's error=0.3245,\tbest lgbm's error=0.3245\n",
      "[flaml.automl: 07-05 23:25:09] {1012} INFO - iteration 9, current learner lgbm\n",
      "iteration 9, current learner lgbm\n",
      "[flaml.automl: 07-05 23:25:09] {1159} INFO -  at 0.9s,\tbest lgbm's error=0.2371,\tbest lgbm's error=0.2371\n",
      " at 0.9s,\tbest lgbm's error=0.2371,\tbest lgbm's error=0.2371\n",
      "[flaml.automl: 07-05 23:25:09] {1012} INFO - iteration 10, current learner lgbm\n",
      "iteration 10, current learner lgbm\n",
      "[flaml.automl: 07-05 23:25:09] {1159} INFO -  at 0.9s,\tbest lgbm's error=0.2371,\tbest lgbm's error=0.2371\n",
      " at 0.9s,\tbest lgbm's error=0.2371,\tbest lgbm's error=0.2371\n",
      "[flaml.automl: 07-05 23:25:09] {1012} INFO - iteration 11, current learner lgbm\n",
      "iteration 11, current learner lgbm\n",
      "[flaml.automl: 07-05 23:25:09] {1159} INFO -  at 1.0s,\tbest lgbm's error=0.2371,\tbest lgbm's error=0.2371\n",
      " at 1.0s,\tbest lgbm's error=0.2371,\tbest lgbm's error=0.2371\n",
      "[flaml.automl: 07-05 23:25:09] {1012} INFO - iteration 12, current learner xgboost\n",
      "iteration 12, current learner xgboost\n",
      "[flaml.automl: 07-05 23:25:09] {1159} INFO -  at 1.1s,\tbest xgboost's error=0.8780,\tbest lgbm's error=0.2371\n",
      " at 1.1s,\tbest xgboost's error=0.8780,\tbest lgbm's error=0.2371\n",
      "[flaml.automl: 07-05 23:25:09] {1012} INFO - iteration 13, current learner xgboost\n",
      "iteration 13, current learner xgboost\n",
      "[flaml.automl: 07-05 23:25:09] {1159} INFO -  at 1.2s,\tbest xgboost's error=0.8780,\tbest lgbm's error=0.2371\n",
      " at 1.2s,\tbest xgboost's error=0.8780,\tbest lgbm's error=0.2371\n",
      "[flaml.automl: 07-05 23:25:09] {1012} INFO - iteration 14, current learner lgbm\n",
      "iteration 14, current learner lgbm\n",
      "[flaml.automl: 07-05 23:25:09] {1159} INFO -  at 1.3s,\tbest lgbm's error=0.2371,\tbest lgbm's error=0.2371\n",
      " at 1.3s,\tbest lgbm's error=0.2371,\tbest lgbm's error=0.2371\n",
      "[flaml.automl: 07-05 23:25:09] {1012} INFO - iteration 15, current learner extra_tree\n",
      "iteration 15, current learner extra_tree\n",
      "[flaml.automl: 07-05 23:25:10] {1159} INFO -  at 1.4s,\tbest extra_tree's error=0.0858,\tbest extra_tree's error=0.0858\n",
      " at 1.4s,\tbest extra_tree's error=0.0858,\tbest extra_tree's error=0.0858\n",
      "[flaml.automl: 07-05 23:25:10] {1012} INFO - iteration 16, current learner extra_tree\n",
      "iteration 16, current learner extra_tree\n",
      "[flaml.automl: 07-05 23:25:10] {1159} INFO -  at 1.5s,\tbest extra_tree's error=0.0858,\tbest extra_tree's error=0.0858\n",
      " at 1.5s,\tbest extra_tree's error=0.0858,\tbest extra_tree's error=0.0858\n",
      "[flaml.automl: 07-05 23:25:10] {1012} INFO - iteration 17, current learner lgbm\n",
      "iteration 17, current learner lgbm\n",
      "[flaml.automl: 07-05 23:25:10] {1159} INFO -  at 1.6s,\tbest lgbm's error=0.2371,\tbest extra_tree's error=0.0858\n",
      " at 1.6s,\tbest lgbm's error=0.2371,\tbest extra_tree's error=0.0858\n",
      "[flaml.automl: 07-05 23:25:10] {1012} INFO - iteration 18, current learner extra_tree\n",
      "iteration 18, current learner extra_tree\n",
      "[flaml.automl: 07-05 23:25:10] {1159} INFO -  at 1.9s,\tbest extra_tree's error=0.0744,\tbest extra_tree's error=0.0744\n",
      " at 1.9s,\tbest extra_tree's error=0.0744,\tbest extra_tree's error=0.0744\n",
      "[flaml.automl: 07-05 23:25:10] {1012} INFO - iteration 19, current learner rf\n",
      "iteration 19, current learner rf\n",
      "[flaml.automl: 07-05 23:25:10] {1159} INFO -  at 2.0s,\tbest rf's error=0.1690,\tbest extra_tree's error=0.0744\n",
      " at 2.0s,\tbest rf's error=0.1690,\tbest extra_tree's error=0.0744\n",
      "[flaml.automl: 07-05 23:25:10] {1012} INFO - iteration 20, current learner rf\n",
      "iteration 20, current learner rf\n",
      "[flaml.automl: 07-05 23:25:10] {1159} INFO -  at 2.2s,\tbest rf's error=0.1690,\tbest extra_tree's error=0.0744\n",
      " at 2.2s,\tbest rf's error=0.1690,\tbest extra_tree's error=0.0744\n",
      "[flaml.automl: 07-05 23:25:10] {1012} INFO - iteration 21, current learner xgboost\n",
      "iteration 21, current learner xgboost\n",
      "[flaml.automl: 07-05 23:25:10] {1159} INFO -  at 2.3s,\tbest xgboost's error=0.5552,\tbest extra_tree's error=0.0744\n",
      " at 2.3s,\tbest xgboost's error=0.5552,\tbest extra_tree's error=0.0744\n",
      "[flaml.automl: 07-05 23:25:10] {1012} INFO - iteration 22, current learner rf\n",
      "iteration 22, current learner rf\n",
      "[flaml.automl: 07-05 23:25:11] {1159} INFO -  at 2.5s,\tbest rf's error=0.1608,\tbest extra_tree's error=0.0744\n",
      " at 2.5s,\tbest rf's error=0.1608,\tbest extra_tree's error=0.0744\n",
      "[flaml.automl: 07-05 23:25:11] {1012} INFO - iteration 23, current learner xgboost\n",
      "iteration 23, current learner xgboost\n",
      "[flaml.automl: 07-05 23:25:11] {1159} INFO -  at 2.6s,\tbest xgboost's error=0.4662,\tbest extra_tree's error=0.0744\n",
      " at 2.6s,\tbest xgboost's error=0.4662,\tbest extra_tree's error=0.0744\n",
      "[flaml.automl: 07-05 23:25:11] {1012} INFO - iteration 24, current learner extra_tree\n",
      "iteration 24, current learner extra_tree\n",
      "[flaml.automl: 07-05 23:25:11] {1159} INFO -  at 2.8s,\tbest extra_tree's error=0.0744,\tbest extra_tree's error=0.0744\n",
      " at 2.8s,\tbest extra_tree's error=0.0744,\tbest extra_tree's error=0.0744\n",
      "[flaml.automl: 07-05 23:25:11] {1012} INFO - iteration 25, current learner extra_tree\n",
      "iteration 25, current learner extra_tree\n",
      "[flaml.automl: 07-05 23:25:11] {1159} INFO -  at 3.1s,\tbest extra_tree's error=0.0744,\tbest extra_tree's error=0.0744\n",
      " at 3.1s,\tbest extra_tree's error=0.0744,\tbest extra_tree's error=0.0744\n",
      "[flaml.automl: 07-05 23:25:11] {1012} INFO - iteration 26, current learner xgboost\n",
      "iteration 26, current learner xgboost\n"
     ]
    },
    {
     "name": "stderr",
     "output_type": "stream",
     "text": [
      "[flaml.automl: 07-05 23:25:11] {1159} INFO -  at 3.2s,\tbest xgboost's error=0.4645,\tbest extra_tree's error=0.0744\n",
      " at 3.2s,\tbest xgboost's error=0.4645,\tbest extra_tree's error=0.0744\n",
      "[flaml.automl: 07-05 23:25:11] {1012} INFO - iteration 27, current learner extra_tree\n",
      "iteration 27, current learner extra_tree\n",
      "[flaml.automl: 07-05 23:25:11] {1159} INFO -  at 3.3s,\tbest extra_tree's error=0.0744,\tbest extra_tree's error=0.0744\n",
      " at 3.3s,\tbest extra_tree's error=0.0744,\tbest extra_tree's error=0.0744\n",
      "[flaml.automl: 07-05 23:25:11] {1012} INFO - iteration 28, current learner extra_tree\n",
      "iteration 28, current learner extra_tree\n",
      "[flaml.automl: 07-05 23:25:12] {1159} INFO -  at 3.6s,\tbest extra_tree's error=0.0744,\tbest extra_tree's error=0.0744\n",
      " at 3.6s,\tbest extra_tree's error=0.0744,\tbest extra_tree's error=0.0744\n",
      "[flaml.automl: 07-05 23:25:12] {1012} INFO - iteration 29, current learner extra_tree\n",
      "iteration 29, current learner extra_tree\n",
      "[flaml.automl: 07-05 23:25:12] {1159} INFO -  at 3.9s,\tbest extra_tree's error=0.0673,\tbest extra_tree's error=0.0673\n",
      " at 3.9s,\tbest extra_tree's error=0.0673,\tbest extra_tree's error=0.0673\n",
      "[flaml.automl: 07-05 23:25:12] {1012} INFO - iteration 30, current learner lgbm\n",
      "iteration 30, current learner lgbm\n",
      "[flaml.automl: 07-05 23:25:12] {1159} INFO -  at 4.0s,\tbest lgbm's error=0.2371,\tbest extra_tree's error=0.0673\n",
      " at 4.0s,\tbest lgbm's error=0.2371,\tbest extra_tree's error=0.0673\n",
      "[flaml.automl: 07-05 23:25:12] {1012} INFO - iteration 31, current learner lgbm\n",
      "iteration 31, current learner lgbm\n",
      "[flaml.automl: 07-05 23:25:12] {1159} INFO -  at 4.1s,\tbest lgbm's error=0.2371,\tbest extra_tree's error=0.0673\n",
      " at 4.1s,\tbest lgbm's error=0.2371,\tbest extra_tree's error=0.0673\n",
      "[flaml.automl: 07-05 23:25:12] {1012} INFO - iteration 32, current learner lgbm\n",
      "iteration 32, current learner lgbm\n",
      "[flaml.automl: 07-05 23:25:12] {1159} INFO -  at 4.2s,\tbest lgbm's error=0.2021,\tbest extra_tree's error=0.0673\n",
      " at 4.2s,\tbest lgbm's error=0.2021,\tbest extra_tree's error=0.0673\n",
      "[flaml.automl: 07-05 23:25:12] {1012} INFO - iteration 33, current learner extra_tree\n",
      "iteration 33, current learner extra_tree\n",
      "[flaml.automl: 07-05 23:25:13] {1159} INFO -  at 4.4s,\tbest extra_tree's error=0.0673,\tbest extra_tree's error=0.0673\n",
      " at 4.4s,\tbest extra_tree's error=0.0673,\tbest extra_tree's error=0.0673\n",
      "[flaml.automl: 07-05 23:25:13] {1012} INFO - iteration 34, current learner lgbm\n",
      "iteration 34, current learner lgbm\n",
      "[flaml.automl: 07-05 23:25:13] {1159} INFO -  at 4.5s,\tbest lgbm's error=0.2021,\tbest extra_tree's error=0.0673\n",
      " at 4.5s,\tbest lgbm's error=0.2021,\tbest extra_tree's error=0.0673\n",
      "[flaml.automl: 07-05 23:25:13] {1012} INFO - iteration 35, current learner extra_tree\n",
      "iteration 35, current learner extra_tree\n",
      "[flaml.automl: 07-05 23:25:13] {1159} INFO -  at 4.7s,\tbest extra_tree's error=0.0673,\tbest extra_tree's error=0.0673\n",
      " at 4.7s,\tbest extra_tree's error=0.0673,\tbest extra_tree's error=0.0673\n",
      "[flaml.automl: 07-05 23:25:13] {1012} INFO - iteration 36, current learner extra_tree\n",
      "iteration 36, current learner extra_tree\n",
      "[flaml.automl: 07-05 23:25:13] {1159} INFO -  at 5.0s,\tbest extra_tree's error=0.0673,\tbest extra_tree's error=0.0673\n",
      " at 5.0s,\tbest extra_tree's error=0.0673,\tbest extra_tree's error=0.0673\n",
      "[flaml.automl: 07-05 23:25:13] {1012} INFO - iteration 37, current learner extra_tree\n",
      "iteration 37, current learner extra_tree\n",
      "[flaml.automl: 07-05 23:25:13] {1159} INFO -  at 5.3s,\tbest extra_tree's error=0.0673,\tbest extra_tree's error=0.0673\n",
      " at 5.3s,\tbest extra_tree's error=0.0673,\tbest extra_tree's error=0.0673\n",
      "[flaml.automl: 07-05 23:25:13] {1012} INFO - iteration 38, current learner extra_tree\n",
      "iteration 38, current learner extra_tree\n",
      "[flaml.automl: 07-05 23:25:14] {1159} INFO -  at 6.3s,\tbest extra_tree's error=0.0673,\tbest extra_tree's error=0.0673\n",
      " at 6.3s,\tbest extra_tree's error=0.0673,\tbest extra_tree's error=0.0673\n",
      "[flaml.automl: 07-05 23:25:14] {1012} INFO - iteration 39, current learner catboost\n",
      "iteration 39, current learner catboost\n",
      "[flaml.automl: 07-05 23:25:16] {1159} INFO -  at 7.5s,\tbest catboost's error=0.3422,\tbest extra_tree's error=0.0673\n",
      " at 7.5s,\tbest catboost's error=0.3422,\tbest extra_tree's error=0.0673\n",
      "[flaml.automl: 07-05 23:25:16] {1012} INFO - iteration 40, current learner catboost\n",
      "iteration 40, current learner catboost\n",
      "[flaml.automl: 07-05 23:25:16] {1159} INFO -  at 8.3s,\tbest catboost's error=0.3422,\tbest extra_tree's error=0.0673\n",
      " at 8.3s,\tbest catboost's error=0.3422,\tbest extra_tree's error=0.0673\n",
      "[flaml.automl: 07-05 23:25:16] {1012} INFO - iteration 41, current learner extra_tree\n",
      "iteration 41, current learner extra_tree\n",
      "[flaml.automl: 07-05 23:25:18] {1159} INFO -  at 9.5s,\tbest extra_tree's error=0.0637,\tbest extra_tree's error=0.0637\n",
      " at 9.5s,\tbest extra_tree's error=0.0637,\tbest extra_tree's error=0.0637\n",
      "[flaml.automl: 07-05 23:25:18] {1012} INFO - iteration 42, current learner rf\n",
      "iteration 42, current learner rf\n",
      "[flaml.automl: 07-05 23:25:18] {1159} INFO -  at 10.0s,\tbest rf's error=0.1608,\tbest extra_tree's error=0.0637\n",
      " at 10.0s,\tbest rf's error=0.1608,\tbest extra_tree's error=0.0637\n",
      "[flaml.automl: 07-05 23:25:18] {1205} INFO - selected model: ExtraTreesRegressor(max_features=1.0, n_estimators=11, n_jobs=-1)\n",
      "selected model: ExtraTreesRegressor(max_features=1.0, n_estimators=11, n_jobs=-1)\n",
      "[flaml.automl: 07-05 23:25:18] {963} INFO - fit succeeded\n",
      "fit succeeded\n"
     ]
    }
   ],
   "source": [
    "'''The main flaml automl API'''\n",
    "automl.fit(X_train=df_X[0:1500],y_train=df_Y[0:1500], **settings)"
   ]
  },
  {
   "cell_type": "code",
   "execution_count": 26,
   "metadata": {},
   "outputs": [
    {
     "name": "stdout",
     "output_type": "stream",
     "text": [
      "Best ML leaner: extra_tree\n",
      "Best hyperparmeter config: {'n_estimators': 11.0, 'max_features': 1.0}\n",
      "Best accuracy on validation data: 0.9363\n",
      "Training duration of best run: 1.253 s\n"
     ]
    }
   ],
   "source": [
    "''' retrieve best config and best learner'''\n",
    "print('Best ML leaner:', automl.best_estimator)\n",
    "print('Best hyperparmeter config:', automl.best_config)\n",
    "print('Best accuracy on validation data: {0:.4g}'.format(1-automl.best_loss))\n",
    "print('Training duration of best run: {0:.4g} s'.format(automl.best_config_train_time))"
   ]
  },
  {
   "cell_type": "code",
   "execution_count": 27,
   "metadata": {},
   "outputs": [],
   "source": [
    "''' pickle and save the automl object '''\n",
    "import pickle\n",
    "with open('automl.pkl', 'wb') as f:\n",
    "    pickle.dump(automl, f, pickle.HIGHEST_PROTOCOL)"
   ]
  },
  {
   "cell_type": "code",
   "execution_count": 28,
   "metadata": {},
   "outputs": [
    {
     "name": "stdout",
     "output_type": "stream",
     "text": [
      "Predicted labels-True labels [[ 6.54714208e-03  2.20261751e+00  2.68680739e+00 ...  2.18117159e-01\n",
      "   2.58850993e+00  3.72444371e-03]\n",
      " [-2.06507870e+00  1.30991666e-01  6.15181547e-01 ... -1.85350868e+00\n",
      "   5.16884090e-01 -2.06790140e+00]\n",
      " [-2.94062405e+00 -7.44553691e-01 -2.60363811e-01 ... -2.72905404e+00\n",
      "  -3.58661268e-01 -2.94344675e+00]\n",
      " ...\n",
      " [-2.18917551e-01  1.97715281e+00  2.46134269e+00 ... -7.34753376e-03\n",
      "   2.36304524e+00 -2.21740249e-01]\n",
      " [-2.70322847e+00 -5.07158108e-01 -2.29682273e-02 ... -2.49165845e+00\n",
      "  -1.21265684e-01 -2.70605117e+00]\n",
      " [ 3.56810254e-03  2.19963847e+00  2.68382835e+00 ...  2.15138119e-01\n",
      "   2.58553089e+00  7.45404164e-04]]\n"
     ]
    }
   ],
   "source": [
    "''' compute predictions of testing dataset ''' \n",
    "y_test=df_Y[1501:2000]\n",
    "y_pred = automl.predict(df_X[1501:2000])\n",
    "print('Predicted labels-True labels', y_pred-y_test)\n",
    "#print('True labels', y_test)"
   ]
  },
  {
   "cell_type": "code",
   "execution_count": 29,
   "metadata": {},
   "outputs": [
    {
     "name": "stdout",
     "output_type": "stream",
     "text": [
      "{'Current Learner': 'lgbm', 'Current Sample': 1500, 'Current Hyper-parameters': {'n_estimators': 4, 'num_leaves': 4, 'min_child_samples': 20, 'learning_rate': 0.1, 'subsample': 1.0, 'log_max_bin': 8, 'colsample_bytree': 1.0, 'reg_alpha': 0.0009765625, 'reg_lambda': 1.0}, 'Best Learner': 'lgbm', 'Best Hyper-parameters': {'n_estimators': 4, 'num_leaves': 4, 'min_child_samples': 20, 'learning_rate': 0.1, 'subsample': 1.0, 'log_max_bin': 8, 'colsample_bytree': 1.0, 'reg_alpha': 0.0009765625, 'reg_lambda': 1.0}}\n",
      "{'Current Learner': 'lgbm', 'Current Sample': 1500, 'Current Hyper-parameters': {'n_estimators': 4.0, 'num_leaves': 4.0, 'min_child_samples': 12.0, 'learning_rate': 0.25912534572860507, 'subsample': 0.9266743941610592, 'log_max_bin': 10.0, 'colsample_bytree': 1.0, 'reg_alpha': 0.0013933617380144255, 'reg_lambda': 0.18096917948292954}, 'Best Learner': 'lgbm', 'Best Hyper-parameters': {'n_estimators': 4.0, 'num_leaves': 4.0, 'min_child_samples': 12.0, 'learning_rate': 0.25912534572860507, 'subsample': 0.9266743941610592, 'log_max_bin': 10.0, 'colsample_bytree': 1.0, 'reg_alpha': 0.0013933617380144255, 'reg_lambda': 0.18096917948292954}}\n",
      "{'Current Learner': 'lgbm', 'Current Sample': 1500, 'Current Hyper-parameters': {'n_estimators': 4.0, 'num_leaves': 4.0, 'min_child_samples': 24.0, 'learning_rate': 1.0, 'subsample': 0.8513627344387318, 'log_max_bin': 10.0, 'colsample_bytree': 0.946138073111236, 'reg_alpha': 0.0018311776973217071, 'reg_lambda': 0.27901659190538414}, 'Best Learner': 'lgbm', 'Best Hyper-parameters': {'n_estimators': 4.0, 'num_leaves': 4.0, 'min_child_samples': 24.0, 'learning_rate': 1.0, 'subsample': 0.8513627344387318, 'log_max_bin': 10.0, 'colsample_bytree': 0.946138073111236, 'reg_alpha': 0.0018311776973217071, 'reg_lambda': 0.27901659190538414}}\n",
      "{'Current Learner': 'lgbm', 'Current Sample': 1500, 'Current Hyper-parameters': {'n_estimators': 4.0, 'num_leaves': 4.0, 'min_child_samples': 16.0, 'learning_rate': 0.5305016568114994, 'subsample': 0.8132820472645403, 'log_max_bin': 8.0, 'colsample_bytree': 0.8110207792444197, 'reg_alpha': 0.002464557255174736, 'reg_lambda': 0.6369900700728743}, 'Best Learner': 'lgbm', 'Best Hyper-parameters': {'n_estimators': 4.0, 'num_leaves': 4.0, 'min_child_samples': 16.0, 'learning_rate': 0.5305016568114994, 'subsample': 0.8132820472645403, 'log_max_bin': 8.0, 'colsample_bytree': 0.8110207792444197, 'reg_alpha': 0.002464557255174736, 'reg_lambda': 0.6369900700728743}}\n",
      "{'Current Learner': 'lgbm', 'Current Sample': 1500, 'Current Hyper-parameters': {'n_estimators': 8.0, 'num_leaves': 4.0, 'min_child_samples': 24.0, 'learning_rate': 1.0, 'subsample': 0.8513627344387318, 'log_max_bin': 10.0, 'colsample_bytree': 0.946138073111236, 'reg_alpha': 0.0018311776973217073, 'reg_lambda': 0.27901659190538414}, 'Best Learner': 'lgbm', 'Best Hyper-parameters': {'n_estimators': 8.0, 'num_leaves': 4.0, 'min_child_samples': 24.0, 'learning_rate': 1.0, 'subsample': 0.8513627344387318, 'log_max_bin': 10.0, 'colsample_bytree': 0.946138073111236, 'reg_alpha': 0.0018311776973217073, 'reg_lambda': 0.27901659190538414}}\n",
      "{'Current Learner': 'lgbm', 'Current Sample': 1500, 'Current Hyper-parameters': {'n_estimators': 12.0, 'num_leaves': 4.0, 'min_child_samples': 31.0, 'learning_rate': 1.0, 'subsample': 0.94339802915019, 'log_max_bin': 9.0, 'colsample_bytree': 0.7960408456608403, 'reg_alpha': 0.0029724360931790185, 'reg_lambda': 1.246651737581895}, 'Best Learner': 'lgbm', 'Best Hyper-parameters': {'n_estimators': 12.0, 'num_leaves': 4.0, 'min_child_samples': 31.0, 'learning_rate': 1.0, 'subsample': 0.94339802915019, 'log_max_bin': 9.0, 'colsample_bytree': 0.7960408456608403, 'reg_alpha': 0.0029724360931790185, 'reg_lambda': 1.246651737581895}}\n",
      "{'Current Learner': 'lgbm', 'Current Sample': 1500, 'Current Hyper-parameters': {'n_estimators': 8.0, 'num_leaves': 5.0, 'min_child_samples': 24.0, 'learning_rate': 0.38946718731417634, 'subsample': 0.8513627344387318, 'log_max_bin': 10.0, 'colsample_bytree': 0.946138073111236, 'reg_alpha': 0.0018311776973217078, 'reg_lambda': 0.27901659190538414}, 'Best Learner': 'lgbm', 'Best Hyper-parameters': {'n_estimators': 8.0, 'num_leaves': 5.0, 'min_child_samples': 24.0, 'learning_rate': 0.38946718731417634, 'subsample': 0.8513627344387318, 'log_max_bin': 10.0, 'colsample_bytree': 0.946138073111236, 'reg_alpha': 0.0018311776973217078, 'reg_lambda': 0.27901659190538414}}\n",
      "{'Current Learner': 'lgbm', 'Current Sample': 1500, 'Current Hyper-parameters': {'n_estimators': 8.0, 'num_leaves': 10.0, 'min_child_samples': 27.0, 'learning_rate': 0.4743416464891248, 'subsample': 0.8852521134497553, 'log_max_bin': 10.0, 'colsample_bytree': 0.8929498604883056, 'reg_alpha': 0.04710120787627807, 'reg_lambda': 1.4083902077701156}, 'Best Learner': 'lgbm', 'Best Hyper-parameters': {'n_estimators': 8.0, 'num_leaves': 10.0, 'min_child_samples': 27.0, 'learning_rate': 0.4743416464891248, 'subsample': 0.8852521134497553, 'log_max_bin': 10.0, 'colsample_bytree': 0.8929498604883056, 'reg_alpha': 0.04710120787627807, 'reg_lambda': 1.4083902077701156}}\n",
      "{'Current Learner': 'extra', 'Current Sample': 1500, 'Current Hyper-parameters': {'n_estimators': 4, 'max_features': 1.0}, 'Best Learner': 'extra', 'Best Hyper-parameters': {'n_estimators': 4, 'max_features': 1.0}}\n",
      "{'Current Learner': 'extra', 'Current Sample': 1500, 'Current Hyper-parameters': {'n_estimators': 6.0, 'max_features': 1.0}, 'Best Learner': 'extra', 'Best Hyper-parameters': {'n_estimators': 6.0, 'max_features': 1.0}}\n",
      "{'Current Learner': 'extra', 'Current Sample': 1500, 'Current Hyper-parameters': {'n_estimators': 9.0, 'max_features': 0.9980059762535382}, 'Best Learner': 'extra', 'Best Hyper-parameters': {'n_estimators': 9.0, 'max_features': 0.9980059762535382}}\n",
      "{'Current Learner': 'extra', 'Current Sample': 1500, 'Current Hyper-parameters': {'n_estimators': 11.0, 'max_features': 1.0}, 'Best Learner': 'extra', 'Best Hyper-parameters': {'n_estimators': 11.0, 'max_features': 1.0}}\n"
     ]
    }
   ],
   "source": [
    "from flaml.data import get_output_from_log\n",
    "time_history, best_valid_loss_history, valid_loss_history, config_history, train_loss_history = \\\n",
    "    get_output_from_log(filename=settings['log_file_name'], time_budget=60)\n",
    "\n",
    "for config in config_history:\n",
    "    print(config)"
   ]
  },
  {
   "cell_type": "code",
   "execution_count": 30,
   "metadata": {},
   "outputs": [
    {
     "data": {
      "image/png": "[encoded data removed]",
      "text/plain": [
       "<Figure size 432x288 with 1 Axes>"
      ]
     },
     "metadata": {
      "needs_background": "light"
     },
     "output_type": "display_data"
    }
   ],
   "source": [
    "import matplotlib.pyplot as plt\n",
    "import numpy as np\n",
    "plt.title('Learning Curve')\n",
    "plt.xlabel('Wall Clock Time (s)')\n",
    "plt.ylabel('Validation Accuracy')\n",
    "plt.scatter(time_history, 1 - np.array(valid_loss_history))\n",
    "plt.step(time_history, 1 - np.array(best_valid_loss_history), where='post')\n",
    "plt.show()"
   ]
  },
  {
   "cell_type": "code",
   "execution_count": null,
   "metadata": {},
   "outputs": [],
   "source": []
  }
 ],
 "metadata": {
  "kernelspec": {
   "display_name": "Python 3",
   "language": "python",
   "name": "python3"
  },
  "language_info": {
   "codemirror_mode": {
    "name": "ipython",
    "version": 3
   },
   "file_extension": ".py",
   "mimetype": "text/x-python",
   "name": "python",
   "nbconvert_exporter": "python",
   "pygments_lexer": "ipython3",
   "version": "3.8.5"
  }
 },
 "nbformat": 4,
 "nbformat_minor": 4
}
